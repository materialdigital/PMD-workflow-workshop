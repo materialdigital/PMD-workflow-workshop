{
 "cells": [
  {
   "cell_type": "markdown",
   "id": "80afdb49-987a-45c8-9318-ae76a8be4adc",
   "metadata": {},
   "source": [
    "# Hands-on session\n",
    "\n",
    "Welcome to the hands-on session.  \n",
    "In the next two hours, you will learn about how to use pyiron via the following notebooks:  \n",
    "- `intro_pyiron_building_blocks/intro.ipynb`: via a simulation, you will learn about building blocks of pyiron.\n",
    "- `customized_job/custom_python_job.ipynb`: you will learn how to implement a custom python job\n",
    "- `customized_job/custom_bash_job.ipynb`: you will learn how to implement a custom non-python job, here a bash example is chosen.\n",
    "- `lammps_damask/lammps_damask_workflow.ipynb`: you will see how one can combine different tools in pyiron to analyze the macroscopic response of a material."
   ]
  },
  {
   "cell_type": "markdown",
   "id": "340bb8ca-b7ad-4488-b908-c18db57149d6",
   "metadata": {},
   "source": [
    "## General guide on how to use jupyter environment\n",
    "pyiron uses jupyter environement as its front end, which can function as a full IDE.  \n"
   ]
  },
  {
   "cell_type": "markdown",
   "id": "9305abcf-7e66-4d8d-88ca-114a9af3f430",
   "metadata": {},
   "source": [
    "On left: \n",
    "- file explorer  \n",
    "- Overview of open notebooks and running kernels\n",
    "- table of content\n",
    "- Extension manager\n",
    "\n",
    "On the write: a configurable workspace.  \n",
    "- write code\n",
    "- jupyternotebooks\n",
    "- open images of different formats\n",
    "- Open a terminal, and execute bash commands\n",
    "- and a lot more using various kernel availabe    "
   ]
  },
  {
   "cell_type": "markdown",
   "id": "97030e52-d482-4998-ace4-d81c10affd3f",
   "metadata": {},
   "source": [
    "### working with jupyter notebooks"
   ]
  },
  {
   "cell_type": "markdown",
   "id": "db6084d2-4468-4ce2-a87f-05f4c2f04314",
   "metadata": {},
   "source": [
    "Jupyter notebooks consists of number of cells and their outputs.  "
   ]
  },
  {
   "cell_type": "code",
   "execution_count": 2,
   "id": "4b0d35c2-74c0-4f2e-9409-5a234530ac56",
   "metadata": {},
   "outputs": [
    {
     "name": "stdout",
     "output_type": "stream",
     "text": [
      "welcome to the onboarding workshop\n"
     ]
    }
   ],
   "source": [
    "print(\"welcome to the onboarding workshop\")"
   ]
  },
  {
   "cell_type": "code",
   "execution_count": null,
   "id": "2ad4e5ed-7ecd-4910-9f06-dbdfedd3d4bc",
   "metadata": {},
   "outputs": [],
   "source": []
  },
  {
   "cell_type": "markdown",
   "id": "d43cd86b-ef8f-41c3-a073-304efd5b15c1",
   "metadata": {},
   "source": [
    "### Modes\n",
    "- Edit mode, via pressing enter you can type your code in the cells\n",
    "- Command mode, enter `ESC` to exit edit mode\n"
   ]
  },
  {
   "cell_type": "markdown",
   "id": "dadc42b5-090b-4583-a4fe-c84e0f60c2ed",
   "metadata": {},
   "source": [
    "### Create a markdown cell"
   ]
  },
  {
   "cell_type": "markdown",
   "id": "6d14cd25-a8d1-4f70-95e3-f71189965f9e",
   "metadata": {},
   "source": [
    "In command mode, you can enter `M` and turn a cell to a markdown cell, to write your text."
   ]
  },
  {
   "cell_type": "code",
   "execution_count": null,
   "id": "c885b0da-470f-4f8c-bd1b-e461734d24b6",
   "metadata": {},
   "outputs": [],
   "source": []
  },
  {
   "cell_type": "markdown",
   "id": "6f5b4ae0-5bdd-475e-bf45-8c9dda766c1e",
   "metadata": {},
   "source": [
    "### Execute a cell"
   ]
  },
  {
   "cell_type": "markdown",
   "id": "07858a2a-e169-4397-a606-479fbbe84111",
   "metadata": {},
   "source": [
    "In edit mode, after writing your code, you can execute the cell via the following options:"
   ]
  },
  {
   "cell_type": "markdown",
   "id": "a57547bb-c93d-4618-8bc9-1633a407c0ba",
   "metadata": {},
   "source": [
    "**- ctrl+enter --- runs only the current cells**  \n",
    "**- shift+enter --- runs the current cell and move to the next cell**  \n",
    "**- alt+enter --- runs the current cell and create a new cell afterwards.**  "
   ]
  },
  {
   "cell_type": "code",
   "execution_count": 3,
   "id": "4a77b01d-1145-4de2-bf11-7d903fad44b3",
   "metadata": {},
   "outputs": [
    {
     "name": "stdout",
     "output_type": "stream",
     "text": [
      "This is PMD onboarding workshop\n"
     ]
    }
   ],
   "source": [
    "print(\"This is PMD onboarding workshop\")"
   ]
  },
  {
   "cell_type": "code",
   "execution_count": null,
   "id": "eb7072d7-806c-4ffa-b0b7-9c29f1d3bd8c",
   "metadata": {},
   "outputs": [],
   "source": []
  },
  {
   "cell_type": "code",
   "execution_count": null,
   "id": "f4bb3999-4982-41a7-9a12-311e8743baf0",
   "metadata": {},
   "outputs": [],
   "source": []
  },
  {
   "cell_type": "markdown",
   "id": "b33461c8-2b37-4965-aebd-41d97bd24ce6",
   "metadata": {},
   "source": [
    "### Top menu"
   ]
  },
  {
   "cell_type": "markdown",
   "id": "fbdbfdc4-2d93-4b03-9353-09c7ab2097d3",
   "metadata": {},
   "source": [
    "Most useful menues are:\n",
    "- kernel\n",
    "- Run"
   ]
  },
  {
   "cell_type": "markdown",
   "id": "8e4d029f-9b40-447a-ab02-ce17ffd4b2d2",
   "metadata": {},
   "source": [
    "## Restart and interupt kernels\n",
    "- To restart the kernel, you can use the `update` sign on top\n",
    "- To interupt the kernel, you can use the `stop` sign on top"
   ]
  },
  {
   "cell_type": "code",
   "execution_count": null,
   "id": "57d340d5-2fe9-4027-8719-3ef44eb27602",
   "metadata": {},
   "outputs": [],
   "source": []
  },
  {
   "cell_type": "code",
   "execution_count": null,
   "id": "3259c606-0723-4ef6-bb88-15767e21bdb3",
   "metadata": {},
   "outputs": [],
   "source": []
  }
 ],
 "metadata": {
  "kernelspec": {
   "display_name": "Python 3",
   "language": "python",
   "name": "python3"
  },
  "language_info": {
   "codemirror_mode": {
    "name": "ipython",
    "version": 3
   },
   "file_extension": ".py",
   "mimetype": "text/x-python",
   "name": "python",
   "nbconvert_exporter": "python",
   "pygments_lexer": "ipython3",
   "version": "3.8.8"
  }
 },
 "nbformat": 4,
 "nbformat_minor": 5
}
