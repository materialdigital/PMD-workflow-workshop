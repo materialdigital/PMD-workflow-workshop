{
 "cells": [
  {
   "cell_type": "markdown",
   "metadata": {},
   "source": [
    "# Macroscopic response based on atomistic properties\n",
    "<img src=\"sqs_wf.png\"\n",
    "     alt=\"Markdown Monster icon\"\n",
    "     style=\"float: center;\" />\n",
    "     \n",
    "     \n",
    "<img src=\"damask_wf.png\"\n",
    "     alt=\"Markdown Monster icon\"\n",
    "     style=\"float: center;\" />\n",
    "     \n",
    "     \n",
    "<img src=\"combined.png\"\n",
    "     alt=\"Markdown Monster icon\"\n",
    "     style=\"float: center;\" />\n",
    "## Concentration dependent elastic constants\n",
    "\n",
    "Here we demonstrate the new `SQSElasticConstantsList` job, which gets elastic constants as a function of chemical composition.\n",
    "\n",
    "This job works by using special quasirandom structures (implemented by Dominik Gehringer and Jan Janssen) to create cells with the requested chemical composition from a base crystal structure. These are then evaluated for their elastic constants (implemented by Yuri Lysogorskiy). These are fully relaxed and the basic output is the chemical composition and full 6x6 elastic matrix. (More detailed output is available from the underlying `SQSElasticConstants` job stored in HDF5, but user-friendly bindings are not currently implemented.)\n",
    "\n",
    "These components were assembled together in a single job (implemented by Liam Huber) that takes a list of dictionaries giving the desired chemical compositions (e.g. `{'Al': 0.95, 'Mg': 0.04, '0': 0.01}` for 95% Aluminium 4% Magnesium and 1% vacancies) and three reference jobs: a `ref_ham` which says how the structures should be interpreted for forces and energies (e.g. a Lammps job with a particular potential) -- the structure of this job provides the base crystal upon which the chemical compositions are imposed -- and `ref_sqs` and `ref_elastic` which hold the input parameters for the SQS and elastic constant calculation components.\n",
    "\n",
    "The current implementation only facilitates modal run modes and is not heavily tested. The example below takes less than 30 minutes on a single core, so for the purposes of demonstration this is not a serious limitation."
   ]
  },
  {
   "cell_type": "code",
   "execution_count": null,
   "metadata": {},
   "outputs": [],
   "source": [
    "%matplotlib inline"
   ]
  },
  {
   "cell_type": "code",
   "execution_count": null,
   "metadata": {
    "ExecuteTime": {
     "end_time": "2020-10-05T07:58:05.296301Z",
     "start_time": "2020-10-05T07:58:00.839091Z"
    }
   },
   "outputs": [],
   "source": [
    "from pyiron_atomistics import Project\n",
    "import pyiron_gpl\n",
    "import pyiron_continuum\n",
    "import numpy as np\n",
    "import matplotlib.pyplot as plt\n",
    "import seaborn as sns\n",
    "import yaml"
   ]
  },
  {
   "cell_type": "code",
   "execution_count": null,
   "metadata": {
    "ExecuteTime": {
     "end_time": "2020-10-05T07:58:05.340298Z",
     "start_time": "2020-10-05T07:58:05.299253Z"
    }
   },
   "outputs": [],
   "source": [
    "pr = Project('elastic_pipeline')\n",
    "# pr.remove_jobs_silently(recursive=True)"
   ]
  },
  {
   "cell_type": "markdown",
   "metadata": {},
   "source": [
    "## Run the calculation\n",
    "\n",
    "Our test system will be Al with dilute Mg (up to 2%). Here we define the reference jobs, give our desired compositions."
   ]
  },
  {
   "cell_type": "markdown",
   "metadata": {},
   "source": [
    "### Minimize the structure for a pure `Al` cubic cell "
   ]
  },
  {
   "cell_type": "code",
   "execution_count": null,
   "metadata": {},
   "outputs": [],
   "source": [
    "lmp_mini = pr.create_job(pr.job_type.Lammps, 'lammps_mini')\n",
    "lmp_mini.structure = pr.create_ase_bulk('Al', cubic=True).repeat(5)\n",
    "lmp_mini.potential = '2009--Mendelev-M-I--Al-Mg--LAMMPS--ipr1'\n",
    "lmp_mini.calc_minimize(pressure=0.0)\n",
    "lmp_mini.run()"
   ]
  },
  {
   "cell_type": "markdown",
   "metadata": {},
   "source": [
    "### Creating quasirandom structure based on the minimized Al structure  \n",
    "Based on a given concentration of `Mg`, quasirandom structure for the given composition of `Al` and `Mg` is created."
   ]
  },
  {
   "cell_type": "code",
   "execution_count": null,
   "metadata": {},
   "outputs": [],
   "source": [
    "sqs_job_al = pr.create_job(\n",
    "    job_type=pr.job_type.SQSJob, \n",
    "    job_name=\"sqs_job_al\"\n",
    ")\n",
    "sqs_job_al.structure = lmp_mini.get_structure()\n",
    "sqs_job_al.input['iterations'] = 1000\n",
    "master_al = sqs_job_al.create_job(\n",
    "    job_type=pr.job_type.SQSMaster, \n",
    "    job_name=\"master_al\"\n",
    ")\n",
    "\n",
    "master_al.input[\"fraction_lst\"] = [0.005, 0.01, 0.015, 0.02]\n",
    "master_al.input[\"species_one\"] = \"Mg\"\n",
    "master_al.input[\"species_two\"] = \"Al\"\n",
    "master_al.run()"
   ]
  },
  {
   "cell_type": "code",
   "execution_count": null,
   "metadata": {},
   "outputs": [],
   "source": [
    "concentration_lst = [0.0] + [0.005, 0.01, 0.015, 0.02]"
   ]
  },
  {
   "cell_type": "code",
   "execution_count": null,
   "metadata": {},
   "outputs": [],
   "source": [
    "structure_lst = [lmp_mini.get_structure()] + master_al.list_of_structures"
   ]
  },
  {
   "cell_type": "code",
   "execution_count": null,
   "metadata": {},
   "outputs": [],
   "source": [
    "[s.get_chemical_formula() for s in structure_lst]"
   ]
  },
  {
   "cell_type": "markdown",
   "metadata": {},
   "source": [
    "### Creating ElasticMatrixJob\n",
    "The `ElasticMatrixJob` runs underneath several lammps jobs to determine the elastic constant for the given structure."
   ]
  },
  {
   "cell_type": "code",
   "execution_count": null,
   "metadata": {},
   "outputs": [],
   "source": [
    "for s in structure_lst:\n",
    "    lmp_template = pr.create_job(pr.job_type.Lammps, 'lammps_tmp')\n",
    "    lmp_template.potential = '2009--Mendelev-M-I--Al-Mg--LAMMPS--ipr1'\n",
    "    lmp_template.server.run_mode.interactive = True\n",
    "    lmp_template.interactive_enforce_structure_reset = True\n",
    "    lmp_template.structure = s\n",
    "    elastic = lmp_template.create_job(pr.job_type.ElasticMatrixJob, 'elastic_' + s.get_chemical_formula())\n",
    "    elastic.input['num_of_points'] = 5\n",
    "    elastic.input['fit_order'] = 2\n",
    "    elastic.input['eps_range'] = 0.005\n",
    "    elastic.input['relax_atoms'] = True\n",
    "    elastic.input['sqrt_eta'] = True\n",
    "    elastic.run()"
   ]
  },
  {
   "cell_type": "markdown",
   "metadata": {},
   "source": [
    "## post-processing the data\n",
    "A very useful, datamining tool in pyiron is pyiron tables. They can search through the jobs and filter based on the query the necessary information in the form of a table.  \n",
    "\n",
    "First, let's take a look at the job table."
   ]
  },
  {
   "cell_type": "code",
   "execution_count": null,
   "metadata": {},
   "outputs": [],
   "source": [
    "pr.job_table()"
   ]
  },
  {
   "cell_type": "markdown",
   "metadata": {},
   "source": [
    "### filtering jobs\n",
    "By the `filter_function`, from the `pr.job_table()` we filter the jobs with name `elastic_*` and not the template lammps jobs."
   ]
  },
  {
   "cell_type": "code",
   "execution_count": null,
   "metadata": {},
   "outputs": [],
   "source": [
    "def filter_function(job): \n",
    "    return \"elastic_\" in job.job_name and \"lammps_tmp\" not in job.job_name"
   ]
  },
  {
   "cell_type": "markdown",
   "metadata": {},
   "source": [
    "## Obtaining elastic moduli\n",
    "`get_c11`, `get_c12` and `get_c44` functions, look into the queried jobs of the `filter_function` and obtain the elastic moduli from the jobs. "
   ]
  },
  {
   "cell_type": "code",
   "execution_count": null,
   "metadata": {},
   "outputs": [],
   "source": [
    "def get_c11(job):\n",
    "    return job[\"output/elasticmatrix\"][\"C\"][0,0]\n",
    "\n",
    "def get_c12(job):\n",
    "    return job[\"output/elasticmatrix\"][\"C\"][0,1]\n",
    "\n",
    "def get_c44(job):\n",
    "    return job[\"output/elasticmatrix\"][\"C\"][3,3]"
   ]
  },
  {
   "cell_type": "code",
   "execution_count": null,
   "metadata": {},
   "outputs": [],
   "source": [
    "table = pr.create_table()"
   ]
  },
  {
   "cell_type": "code",
   "execution_count": null,
   "metadata": {},
   "outputs": [],
   "source": [
    "table.filter_function = filter_function\n",
    "table.add[\"C11\"] = get_c11\n",
    "table.add[\"C12\"] = get_c12\n",
    "table.add[\"C44\"] = get_c44"
   ]
  },
  {
   "cell_type": "code",
   "execution_count": null,
   "metadata": {},
   "outputs": [],
   "source": [
    "table.run()"
   ]
  },
  {
   "cell_type": "code",
   "execution_count": null,
   "metadata": {},
   "outputs": [],
   "source": [
    "df_data = table.get_dataframe()\n",
    "df_data"
   ]
  },
  {
   "cell_type": "markdown",
   "metadata": {},
   "source": [
    "## Analysis\n",
    "\n",
    "Finally, let's use numpy to make a polynomial fit of our elastic constants to alloying concentration and visualize the results.\n",
    "\n",
    "Note: pure-Al data lines up very nicely with the pure Al elastic constants [reported on the NIST website for this potential](https://www.ctcms.nist.gov/potentials/entry/2009--Mendelev-M-I-Asta-M-Rahman-M-J-Hoyt-J-J--Al-Mg/2009--Mendelev-M-I--Al-Mg--LAMMPS--ipr1.html)."
   ]
  },
  {
   "cell_type": "code",
   "execution_count": null,
   "metadata": {},
   "outputs": [],
   "source": [
    "concentrations = np.array(concentration_lst)"
   ]
  },
  {
   "cell_type": "code",
   "execution_count": null,
   "metadata": {},
   "outputs": [],
   "source": [
    "C11_data = df_data[\"C11\"].values\n",
    "C12_data = df_data[\"C12\"].values\n",
    "C44_data = df_data[\"C44\"].values"
   ]
  },
  {
   "cell_type": "code",
   "execution_count": null,
   "metadata": {
    "ExecuteTime": {
     "end_time": "2020-10-05T08:18:13.444764Z",
     "start_time": "2020-10-05T08:18:13.425319Z"
    }
   },
   "outputs": [],
   "source": [
    "fit_degree = 2\n",
    "C11_fit = np.polyfit(concentrations, C11_data, deg=fit_degree)\n",
    "C12_fit = np.polyfit(concentrations, C12_data, deg=fit_degree)\n",
    "C44_fit = np.polyfit(concentrations, C44_data, deg=fit_degree)\n",
    "c = np.linspace(concentrations.min(), concentrations.max(), 100)  # 'Continuous' concentration"
   ]
  },
  {
   "cell_type": "code",
   "execution_count": null,
   "metadata": {
    "ExecuteTime": {
     "end_time": "2020-10-05T08:18:13.478125Z",
     "start_time": "2020-10-05T08:18:13.465417Z"
    }
   },
   "outputs": [],
   "source": [
    "# p(x) = p[0] * x**deg + ... + p[deg]\n",
    "print(C11_fit)\n",
    "print(C12_fit)\n",
    "print(C44_fit)"
   ]
  },
  {
   "cell_type": "code",
   "execution_count": null,
   "metadata": {
    "ExecuteTime": {
     "end_time": "2020-10-05T08:18:14.491958Z",
     "start_time": "2020-10-05T08:18:13.507439Z"
    }
   },
   "outputs": [],
   "source": [
    "for color, data, fit, label in zip(\n",
    "    sns.color_palette(n_colors=3), \n",
    "    [C11_data, C12_data, C44_data], \n",
    "    [C11_fit, C12_fit, C44_fit],\n",
    "    ['C11', 'C12', 'C44']\n",
    "):\n",
    "    plt.scatter(concentrations, data, color=color)\n",
    "    plt.plot(c, np.polyval(fit, c), color=color, label=label)\n",
    "plt.xlabel('Mg concentration')\n",
    "plt.ylabel('Elastic constant (GPa)')\n",
    "plt.legend()\n",
    "plt.show()"
   ]
  },
  {
   "cell_type": "markdown",
   "metadata": {},
   "source": [
    "## DAMASK Simulations\n",
    "The steps include, defining:\n",
    "- geometries\n",
    "- grains\n",
    "- loading\n",
    "- material properties based on the atomistically-evaluated \n",
    "- perfoming simulations"
   ]
  },
  {
   "cell_type": "code",
   "execution_count": null,
   "metadata": {},
   "outputs": [],
   "source": [
    "concentration_sample = [concentrations[0],concentrations[-1]]"
   ]
  },
  {
   "cell_type": "code",
   "execution_count": null,
   "metadata": {},
   "outputs": [],
   "source": [
    "with open('../pyiron/resources/damask/material.yaml') as f:\n",
    "    material = yaml.load(f, Loader=yaml.FullLoader)\n",
    "with open('../pyiron/resources/damask/tensionX.load') as f:\n",
    "    tension = f.readlines()"
   ]
  },
  {
   "cell_type": "markdown",
   "metadata": {},
   "source": [
    "## Exercise: \n",
    "In order to create DAMASK jobs for the given number of concentration, please fill in the missing line. "
   ]
  },
  {
   "cell_type": "code",
   "execution_count": null,
   "metadata": {},
   "outputs": [],
   "source": [
    "job_lst = []\n",
    "for i,c in enumerate(concentration_sample):\n",
    " ### job, project ???\n",
    "    job.material = material\n",
    "    job.tension = tension\n",
    "    job.input['C11'] = float(np.polyval(C11_fit, c))\n",
    "    job.input['C12'] = float(np.polyval(C12_fit, c))\n",
    "    ### running the simulation and input???\n",
    "    job_lst.append(job)"
   ]
  },
  {
   "cell_type": "markdown",
   "metadata": {},
   "source": [
    "## Post-processing DAMASK simulations\n",
    "- Von-Mises stress for each case is calculated\n",
    "- The Stress-strain data is evaluated for each case\n"
   ]
  },
  {
   "cell_type": "code",
   "execution_count": null,
   "metadata": {},
   "outputs": [],
   "source": [
    "stresses, strains = [], []\n",
    "for job in job_lst: \n",
    "    damask_results = job.output\n",
    "    damask_results.add_stress_Cauchy()\n",
    "    damask_results.add_strain()\n",
    "    damask_results.add_equivalent_Mises('sigma')\n",
    "    damask_results.add_equivalent_Mises('epsilon_V^0.0(F)')\n",
    "    damask_results.add_calculation('avg_sigma',\"np.average(#sigma_vM#)\")\n",
    "    damask_results.add_calculation('avg_epsilon',\"np.average(#epsilon_V^0.0(F)_vM#)\")\n",
    "    damask_results.save_VTK(['sigma','epsilon_V^0.0(F)','sigma_vM','epsilon_V^0.0(F)_vM'])\n",
    "    stresses.append(job.eval_stress())\n",
    "    strains.append(job.eval_strain())"
   ]
  },
  {
   "cell_type": "markdown",
   "metadata": {},
   "source": [
    "## Visualization\n",
    "### Von-Mises Stress"
   ]
  },
  {
   "cell_type": "code",
   "execution_count": null,
   "metadata": {},
   "outputs": [],
   "source": [
    "import os"
   ]
  },
  {
   "cell_type": "code",
   "execution_count": null,
   "metadata": {},
   "outputs": [],
   "source": [
    "import pyvista as pv\n",
    "inc=20\n",
    "mesh = pv.read(os.path.basename(job.output_file.split('.')[0]) + f'_inc0{inc}.vtr')  #enter the file name you wish to view"
   ]
  },
  {
   "cell_type": "code",
   "execution_count": null,
   "metadata": {},
   "outputs": [],
   "source": [
    "from itkwidgets import view\n",
    "import itk\n",
    "mesh"
   ]
  },
  {
   "cell_type": "code",
   "execution_count": null,
   "metadata": {},
   "outputs": [],
   "source": [
    "pl = pv.PlotterITK()\n",
    "pl.add_mesh(mesh)\n",
    "pl.show()"
   ]
  },
  {
   "cell_type": "markdown",
   "metadata": {},
   "source": [
    "### Stress-strain curve"
   ]
  },
  {
   "cell_type": "code",
   "execution_count": null,
   "metadata": {},
   "outputs": [],
   "source": [
    "%matplotlib inline"
   ]
  },
  {
   "cell_type": "code",
   "execution_count": null,
   "metadata": {},
   "outputs": [],
   "source": [
    "i = 0;\n",
    "colors = ['r','g','b']\n",
    "#for color, strain, stress, c in zip(colors, strains, stresses, concentrations):\n",
    "plt.plot(strains[0], stresses[0], 'r', linewidth=2, label = 'Mg={}%'.format(0*100))\n",
    "plt.plot(strains[1], stresses[1], 'b', linestyle=\"None\",marker = 'o' ,label = 'Mg={}%'.format(0.01*100))\n",
    "#plt.plot(strains[1], stresses[2], 'g', linestyle=\"None\",marker = '*' ,label = 'Mg={}%'.format(0.02*100))\n",
    "#plt.ylim(90, 95)\n",
    "plt.grid(True)\n",
    "plt.xlabel('$Strain$')\n",
    "plt.ylabel('Stress- MPa')\n",
    "plt.legend( loc='lower right')\n",
    "plt.title(\"Stress-Strain\")\n",
    " #   i= i+1;"
   ]
  },
  {
   "cell_type": "code",
   "execution_count": null,
   "metadata": {},
   "outputs": [],
   "source": []
  }
 ],
 "metadata": {
  "kernelspec": {
   "display_name": "Python 3",
   "language": "python",
   "name": "python3"
  },
  "language_info": {
   "codemirror_mode": {
    "name": "ipython",
    "version": 3
   },
   "file_extension": ".py",
   "mimetype": "text/x-python",
   "name": "python",
   "nbconvert_exporter": "python",
   "pygments_lexer": "ipython3",
   "version": "3.8.8"
  },
  "toc": {
   "base_numbering": 1,
   "nav_menu": {},
   "number_sections": true,
   "sideBar": true,
   "skip_h1_title": false,
   "title_cell": "Table of Contents",
   "title_sidebar": "Contents",
   "toc_cell": false,
   "toc_position": {},
   "toc_section_display": true,
   "toc_window_display": false
  }
 },
 "nbformat": 4,
 "nbformat_minor": 4
}
