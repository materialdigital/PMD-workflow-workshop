{
 "cells": [
  {
   "cell_type": "markdown",
   "id": "b528c81c-3900-429e-87f9-d4087e9fac22",
   "metadata": {},
   "source": [
    "# Importing a project"
   ]
  },
  {
   "cell_type": "code",
   "execution_count": null,
   "id": "a4120319-136b-46ad-995a-4912e5accac1",
   "metadata": {},
   "outputs": [],
   "source": [
    "from pyiron_atomistics import Project"
   ]
  },
  {
   "cell_type": "code",
   "execution_count": null,
   "id": "d41a6c72-06be-43b1-a154-222504c9655d",
   "metadata": {},
   "outputs": [],
   "source": [
    "pr = Project(\"imported_proj\")\n",
    "pr.remove_jobs_silently(recursive=True)"
   ]
  },
  {
   "cell_type": "code",
   "execution_count": null,
   "id": "80722bd4-63a1-4d94-b33d-2e1444b33d08",
   "metadata": {},
   "outputs": [],
   "source": [
    "pr.unpack(csv_file_name='export.csv',origin_path='lammps_project')"
   ]
  },
  {
   "cell_type": "markdown",
   "id": "79766114-63fb-4495-ae42-a3f7dd0707eb",
   "metadata": {},
   "source": [
    "## Testing our import"
   ]
  },
  {
   "cell_type": "markdown",
   "id": "019e317f-15d9-4ef1-90e4-6b0af56a2499",
   "metadata": {},
   "source": [
    "### Exercise1:  \n",
    "inspect the `job_table`"
   ]
  },
  {
   "cell_type": "code",
   "execution_count": null,
   "id": "ce5850fb-87b4-44ba-a0ce-97256bd2e148",
   "metadata": {},
   "outputs": [],
   "source": []
  },
  {
   "cell_type": "markdown",
   "id": "782812c7-e099-42d3-b713-eb3d29a9d35e",
   "metadata": {},
   "source": [
    "### Exercise2:  \n",
    "With the help of pyiron GUI, plot the temperature of the job `Al_T800K`."
   ]
  },
  {
   "cell_type": "code",
   "execution_count": null,
   "id": "68315bc5-721a-4227-85a9-0b1a8fea674c",
   "metadata": {},
   "outputs": [],
   "source": []
  },
  {
   "cell_type": "code",
   "execution_count": null,
   "id": "36b1dc76-823c-4c87-879d-7202f8f4ea49",
   "metadata": {},
   "outputs": [],
   "source": []
  }
 ],
 "metadata": {
  "kernelspec": {
   "display_name": "Python 3",
   "language": "python",
   "name": "python3"
  },
  "language_info": {
   "codemirror_mode": {
    "name": "ipython",
    "version": 3
   },
   "file_extension": ".py",
   "mimetype": "text/x-python",
   "name": "python",
   "nbconvert_exporter": "python",
   "pygments_lexer": "ipython3",
   "version": "3.8.8"
  }
 },
 "nbformat": 4,
 "nbformat_minor": 5
}
