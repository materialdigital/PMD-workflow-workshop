{
 "cells": [
  {
   "cell_type": "markdown",
   "metadata": {},
   "source": [
    "# Integrating a generic, python tool in pyiron (Level B, recommended approach)\n",
    "To integrate a new python tool into pyiron, one needs to create a pyiron job class, which is inherited from pyiron generic job class: `PythonTemplateJob`   "
   ]
  },
  {
   "cell_type": "code",
   "execution_count": 2,
   "metadata": {},
   "outputs": [],
   "source": [
    "from pyiron_base import PythonTemplateJob"
   ]
  },
  {
   "cell_type": "code",
   "execution_count": 10,
   "metadata": {},
   "outputs": [],
   "source": [
    "class ToyPythonJob(PythonTemplateJob):\n",
    "    def __init__(self, project, job_name):\n",
    "        super(ToyPythonJob, self).__init__(project, job_name) \n",
    "        self.input['input_energy'] = 100\n",
    "    \n",
    "    # This function is executed \n",
    "    def run_static(self):\n",
    "        with self.project_hdf5.open(\"output/generic\") as h5out: \n",
    "             h5out[\"energy_tot\"] = self.input[\"input_energy\"]\n",
    "        self.status.finished = True"
   ]
  },
  {
   "cell_type": "markdown",
   "metadata": {},
   "source": [
    "## Exercise 1:\n",
    "Create a project, which includes a job of type `ToyPythonJob`"
   ]
  },
  {
   "cell_type": "code",
   "execution_count": 13,
   "metadata": {},
   "outputs": [
    {
     "name": "stderr",
     "output_type": "stream",
     "text": [
      "Exception ignored in: <function JobCore.__del__ at 0x7ff13c4d1a60>\n",
      "Traceback (most recent call last):\n",
      "  File \"/home/muhammad/miniconda3/envs/workshop_test/lib/python3.8/site-packages/pyiron_base/job/core.py\", line 851, in __del__\n",
      "    del self._name\n",
      "AttributeError: _name\n"
     ]
    },
    {
     "name": "stdout",
     "output_type": "stream",
     "text": [
      "      Parameter  Value Comment\n",
      "0  input_energy    100        \n",
      "The job toy was saved and received the ID: 70\n"
     ]
    },
    {
     "name": "stderr",
     "output_type": "stream",
     "text": [
      "/home/muhammad/miniconda3/envs/workshop_test/lib/python3.8/site-packages/pyiron_base/generic/hdfio.py:361: UserWarning: swmr=True only affects read ('r') mode. For swmr write mode, set f.swmr_mode = True after opening the file.\n",
      "  with h5py.File(self.file_name, mode=\"a\", libver=\"latest\", swmr=True) as h:\n"
     ]
    }
   ],
   "source": []
  },
  {
   "cell_type": "markdown",
   "metadata": {},
   "source": [
    "## Exercise 2:  \n",
    "How to access the `energy_tot` from the output of the job. "
   ]
  },
  {
   "cell_type": "code",
   "execution_count": 14,
   "metadata": {},
   "outputs": [
    {
     "data": {
      "text/plain": [
       "100"
      ]
     },
     "execution_count": 14,
     "metadata": {},
     "output_type": "execute_result"
    }
   ],
   "source": []
  },
  {
   "cell_type": "code",
   "execution_count": null,
   "metadata": {},
   "outputs": [],
   "source": []
  }
 ],
 "metadata": {
  "kernelspec": {
   "display_name": "Python 3",
   "language": "python",
   "name": "python3"
  },
  "language_info": {
   "codemirror_mode": {
    "name": "ipython",
    "version": 3
   },
   "file_extension": ".py",
   "mimetype": "text/x-python",
   "name": "python",
   "nbconvert_exporter": "python",
   "pygments_lexer": "ipython3",
   "version": "3.8.8"
  }
 },
 "nbformat": 4,
 "nbformat_minor": 4
}
