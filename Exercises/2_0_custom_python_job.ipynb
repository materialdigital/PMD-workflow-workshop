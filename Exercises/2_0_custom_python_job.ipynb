{
 "cells": [
  {
   "cell_type": "markdown",
   "metadata": {},
   "source": [
    "# Integrating a generic, python tool in pyiron (Level B, recommended approach)\n",
    "If we need to repeatedly, perform a combination of processes to return a value, a plot, etc., it might make sense to create a Job class for it. Here, we create a simple workflow using available python tools for a specific problem.\n",
    "\n",
    "Problem: \n",
    "we are given as an input the positions of a some particles, plus a energy constant.  \n",
    "the goal of the workflow: \n",
    "- calculate the mean harmonic energy\n",
    "- return a 3D plot of the cloud of particles."
   ]
  },
  {
   "cell_type": "code",
   "execution_count": null,
   "metadata": {},
   "outputs": [],
   "source": [
    "from pyiron_base import PythonTemplateJob, DataContainer\n",
    "import numpy as np\n",
    "import math\n",
    "import matplotlib.pyplot as plt"
   ]
  },
  {
   "cell_type": "code",
   "execution_count": null,
   "metadata": {},
   "outputs": [],
   "source": [
    "class harmonicEnergy(PythonTemplateJob):\n",
    "    def __init__(self, project, job_name):\n",
    "        super(harmonicEnergy, self).__init__(project, job_name)\n",
    "        self.input=DataContainer(table_name='inputs')\n",
    "\n",
    "    def read_input(self, file_name):\n",
    "        self.input.read(file_name)\n",
    "    \n",
    "    def calc_mean_harmonic_energy(self):\n",
    "        counter=0\n",
    "        d2=0\n",
    "        for i,p1 in enumerate(self.input.positions.to_builtin()):\n",
    "            for p2 in self.input.positions.to_builtin()[i+1:]:\n",
    "                p2_vec=np.array(p2)\n",
    "                p1_vec=np.array(p1)\n",
    "                d = p2_vec - p1_vec\n",
    "                d_val = math.sqrt(np.dot(d, d))-self.input.equilibrium_lengh\n",
    "                d2+=d_val**2\n",
    "                counter+=1\n",
    "        self.avg_d2=d2/counter\n",
    "        self.avg_energy=self.input.energy_constant*self.avg_d2\n",
    "    \n",
    "    def scatter_plot(self):\n",
    "        x = [ self.input.positions.to_builtin()[k][0] for k in range(0, len(self.input.positions.to_builtin()))]\n",
    "        y = [ self.input.positions.to_builtin()[k][1] for k in range(0, len(self.input.positions.to_builtin()))]\n",
    "        z = [ self.input.positions.to_builtin()[k][1] for k in range(0,len(self.input.positions.to_builtin()))]\n",
    "        fig = plt.figure()\n",
    "        ax = fig.add_subplot(projection='3d')\n",
    "        ax.scatter(x, y, z, marker='o')\n",
    "\n",
    "    # This function is executed \n",
    "    def run_static(self):\n",
    "        self.calc_mean_harmonic_energy()\n",
    "        with self.project_hdf5.open(\"output/generic\") as h5out: \n",
    "             h5out[\"avg_harmonic_energy\"] = self.avg_energy\n",
    "        self.status.finished = True"
   ]
  },
  {
   "cell_type": "markdown",
   "metadata": {},
   "source": [
    "## Exercise 1:\n",
    "Create a project and a job of type harmonicEnergy, which reads in `input.yml` and calculates the mean harmonic energy. Also create the 3d scatter plot of the particles."
   ]
  },
  {
   "cell_type": "code",
   "execution_count": null,
   "metadata": {},
   "outputs": [],
   "source": []
  },
  {
   "cell_type": "markdown",
   "metadata": {},
   "source": [
    "## Exercise 2:  \n",
    "How to access the `energy_tot` from the output of the job. "
   ]
  },
  {
   "cell_type": "code",
   "execution_count": null,
   "metadata": {},
   "outputs": [],
   "source": []
  },
  {
   "cell_type": "code",
   "execution_count": null,
   "metadata": {},
   "outputs": [],
   "source": []
  }
 ],
 "metadata": {
  "kernelspec": {
   "display_name": "Python 3",
   "language": "python",
   "name": "python3"
  },
  "language_info": {
   "codemirror_mode": {
    "name": "ipython",
    "version": 3
   },
   "file_extension": ".py",
   "mimetype": "text/x-python",
   "name": "python",
   "nbconvert_exporter": "python",
   "pygments_lexer": "ipython3",
   "version": "3.8.8"
  }
 },
 "nbformat": 4,
 "nbformat_minor": 4
}
