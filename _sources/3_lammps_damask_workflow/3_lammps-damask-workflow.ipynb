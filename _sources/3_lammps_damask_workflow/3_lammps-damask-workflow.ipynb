{
 "cells": [
  {
   "cell_type": "markdown",
   "metadata": {},
   "source": [
    "# Macroscopic response based on atomistic properties\n",
    "<img src=\"sqs_wf.png\"\n",
    "     alt=\"Markdown Monster icon\"\n",
    "     style=\"float: center;\" />\n",
    "     \n",
    "     \n",
    "<img src=\"damask_wf.png\"\n",
    "     alt=\"Markdown Monster icon\"\n",
    "     style=\"float: center;\" />\n",
    "     \n",
    "     \n",
    "<img src=\"combined.png\"\n",
    "     alt=\"Markdown Monster icon\"\n",
    "     style=\"float: center;\" />\n",
    "## Concentration dependent elastic constants\n",
    "\n",
    "Here we demonstrate the new `SQSElasticConstantsList` job, which gets elastic constants as a function of chemical composition.\n",
    "\n",
    "This job works by using special quasirandom structures (implemented by Dominik Gehringer and Jan Janssen) to create cells with the requested chemical composition from a base crystal structure. These are then evaluated for their elastic constants (implemented by Yuri Lysogorskiy). These are fully relaxed and the basic output is the chemical composition and full 6x6 elastic matrix. (More detailed output is available from the underlying `SQSElasticConstants` job stored in HDF5, but user-friendly bindings are not currently implemented.)\n",
    "\n",
    "These components were assembled together in a single job (implemented by Liam Huber) that takes a list of dictionaries giving the desired chemical compositions (e.g. `{'Al': 0.95, 'Mg': 0.04, '0': 0.01}` for 95% Aluminium 4% Magnesium and 1% vacancies) and three reference jobs: a `ref_ham` which says how the structures should be interpreted for forces and energies (e.g. a Lammps job with a particular potential) -- the structure of this job provides the base crystal upon which the chemical compositions are imposed -- and `ref_sqs` and `ref_elastic` which hold the input parameters for the SQS and elastic constant calculation components.\n",
    "\n",
    "The current implementation only facilitates modal run modes and is not heavily tested. The example below takes less than 30 minutes on a single core, so for the purposes of demonstration this is not a serious limitation."
   ]
  },
  {
   "cell_type": "code",
   "execution_count": 1,
   "metadata": {},
   "outputs": [],
   "source": [
    "%matplotlib inline"
   ]
  },
  {
   "cell_type": "code",
   "execution_count": 2,
   "metadata": {
    "ExecuteTime": {
     "end_time": "2020-10-05T07:58:05.296301Z",
     "start_time": "2020-10-05T07:58:00.839091Z"
    }
   },
   "outputs": [],
   "source": [
    "from pyiron_atomistics import Project\n",
    "import pyiron_gpl\n",
    "import pyiron_continuum\n",
    "import numpy as np\n",
    "import matplotlib.pyplot as plt\n",
    "import seaborn as sns\n",
    "import yaml"
   ]
  },
  {
   "cell_type": "code",
   "execution_count": 3,
   "metadata": {
    "ExecuteTime": {
     "end_time": "2020-10-05T07:58:05.340298Z",
     "start_time": "2020-10-05T07:58:05.299253Z"
    }
   },
   "outputs": [],
   "source": [
    "pr = Project('elastic_pipeline')\n",
    "pr.remove_jobs_silently(recursive=True)"
   ]
  },
  {
   "cell_type": "markdown",
   "metadata": {},
   "source": [
    "## Run the calculation\n",
    "\n",
    "Our test system will be Al with dilute Mg (up to 2%). Here we define the reference jobs, give our desired compositions."
   ]
  },
  {
   "cell_type": "markdown",
   "metadata": {},
   "source": [
    "### Minimize the structure for a pure `Al` cubic cell "
   ]
  },
  {
   "cell_type": "code",
   "execution_count": 4,
   "metadata": {},
   "outputs": [
    {
     "name": "stdout",
     "output_type": "stream",
     "text": [
      "The job lammps_mini was saved and received the ID: 98\n"
     ]
    }
   ],
   "source": [
    "lmp_mini = pr.create_job(pr.job_type.Lammps, 'lammps_mini')\n",
    "lmp_mini.structure = pr.create_ase_bulk('Al', cubic=True).repeat(5)\n",
    "lmp_mini.potential = '2009--Mendelev-M-I--Al-Mg--LAMMPS--ipr1'\n",
    "lmp_mini.calc_minimize(pressure=0.0)\n",
    "lmp_mini.run()"
   ]
  },
  {
   "cell_type": "markdown",
   "metadata": {},
   "source": [
    "### Creating quasirandom structure based on the minimized Al structure  \n",
    "Based on a given concentration of `Mg`, quasirandom structure for the given composition of `Al` and `Mg` is created."
   ]
  },
  {
   "cell_type": "code",
   "execution_count": 5,
   "metadata": {},
   "outputs": [
    {
     "name": "stdout",
     "output_type": "stream",
     "text": [
      "The job master_al was saved and received the ID: 99\n",
      "The job sqs_0_005 was saved and received the ID: 100\n",
      "Mole fractions were corrected to: {'Mg': 0.004, 'Al': 0.996}\n",
      "Threads used: 1\n",
      "The job sqs_0_01 was saved and received the ID: 101\n",
      "Threads used: 1\n",
      "The job sqs_0_015 was saved and received the ID: 102\n",
      "Mole fractions were corrected to: {'Mg': 0.016, 'Al': 0.984}\n",
      "Threads used: 1\n",
      "The job sqs_0_02 was saved and received the ID: 103\n",
      "Threads used: 1\n"
     ]
    }
   ],
   "source": [
    "sqs_job_al = pr.create_job(\n",
    "    job_type=pr.job_type.SQSJob, \n",
    "    job_name=\"sqs_job_al\"\n",
    ")\n",
    "sqs_job_al.structure = lmp_mini.get_structure()\n",
    "sqs_job_al.input['iterations'] = 1000\n",
    "master_al = sqs_job_al.create_job(\n",
    "    job_type=pr.job_type.SQSMaster, \n",
    "    job_name=\"master_al\"\n",
    ")\n",
    "\n",
    "master_al.input[\"fraction_lst\"] = [0.005, 0.01, 0.015, 0.02]\n",
    "master_al.input[\"species_one\"] = \"Mg\"\n",
    "master_al.input[\"species_two\"] = \"Al\"\n",
    "master_al.run()"
   ]
  },
  {
   "cell_type": "code",
   "execution_count": 6,
   "metadata": {},
   "outputs": [],
   "source": [
    "concentration_lst = [0.0] + [0.005, 0.01, 0.015, 0.02]"
   ]
  },
  {
   "cell_type": "code",
   "execution_count": 7,
   "metadata": {},
   "outputs": [],
   "source": [
    "structure_lst = [lmp_mini.get_structure()] + master_al.list_of_structures"
   ]
  },
  {
   "cell_type": "code",
   "execution_count": 8,
   "metadata": {},
   "outputs": [
    {
     "data": {
      "text/plain": [
       "['Al500', 'Al498Mg2', 'Al495Mg5', 'Al492Mg8', 'Al490Mg10']"
      ]
     },
     "execution_count": 8,
     "metadata": {},
     "output_type": "execute_result"
    }
   ],
   "source": [
    "[s.get_chemical_formula() for s in structure_lst]"
   ]
  },
  {
   "cell_type": "markdown",
   "metadata": {},
   "source": [
    "### Creating ElasticMatrixJob\n",
    "The `ElasticMatrixJob` runs underneath several lammps jobs to determine the elastic constant for the given structure."
   ]
  },
  {
   "cell_type": "code",
   "execution_count": 9,
   "metadata": {},
   "outputs": [
    {
     "name": "stdout",
     "output_type": "stream",
     "text": [
      "The job elastic_Al500 was saved and received the ID: 104\n",
      "The job elastic_Al500_lammps_tmp was saved and received the ID: 105\n"
     ]
    },
    {
     "name": "stderr",
     "output_type": "stream",
     "text": [
      "/home/muhammad/miniconda3/envs/workshop_test/lib/python3.8/site-packages/pyiron_atomistics/lammps/interactive.py:375: UserWarning: Warning: setting upper trangular matrix might slow down the calculation\n",
      "  warnings.warn(\n"
     ]
    },
    {
     "name": "stdout",
     "output_type": "stream",
     "text": [
      "The job elastic_Al498Mg2 was saved and received the ID: 106\n",
      "The job elastic_Al498Mg2_lammps_tmp was saved and received the ID: 107\n",
      "The job elastic_Al495Mg5 was saved and received the ID: 108\n",
      "The job elastic_Al495Mg5_lammps_tmp was saved and received the ID: 109\n",
      "The job elastic_Al492Mg8 was saved and received the ID: 110\n",
      "The job elastic_Al492Mg8_lammps_tmp was saved and received the ID: 111\n",
      "The job elastic_Al490Mg10 was saved and received the ID: 112\n",
      "The job elastic_Al490Mg10_lammps_tmp was saved and received the ID: 113\n"
     ]
    }
   ],
   "source": [
    "for s in structure_lst:\n",
    "    lmp_template = pr.create_job(pr.job_type.Lammps, 'lammps_tmp')\n",
    "    lmp_template.potential = '2009--Mendelev-M-I--Al-Mg--LAMMPS--ipr1'\n",
    "    lmp_template.server.run_mode.interactive = True\n",
    "    lmp_template.interactive_enforce_structure_reset = True\n",
    "    lmp_template.structure = s\n",
    "    elastic = lmp_template.create_job(pr.job_type.ElasticMatrixJob, 'elastic_' + s.get_chemical_formula())\n",
    "    elastic.input['num_of_points'] = 5\n",
    "    elastic.input['fit_order'] = 2\n",
    "    elastic.input['eps_range'] = 0.005\n",
    "    elastic.input['relax_atoms'] = True\n",
    "    elastic.input['sqrt_eta'] = True\n",
    "    elastic.run()"
   ]
  },
  {
   "cell_type": "markdown",
   "metadata": {},
   "source": [
    "## post-processing the data\n",
    "A very useful, datamining tool in pyiron is pyiron tables. They can search through the jobs and filter based on the query the necessary information in the form of a table.  \n",
    "\n",
    "First, let's take a look at the job table.\n"
   ]
  },
  {
   "cell_type": "code",
   "execution_count": 10,
   "metadata": {},
   "outputs": [
    {
     "data": {
      "text/html": [
       "<div>\n",
       "<style scoped>\n",
       "    .dataframe tbody tr th:only-of-type {\n",
       "        vertical-align: middle;\n",
       "    }\n",
       "\n",
       "    .dataframe tbody tr th {\n",
       "        vertical-align: top;\n",
       "    }\n",
       "\n",
       "    .dataframe thead th {\n",
       "        text-align: right;\n",
       "    }\n",
       "</style>\n",
       "<table border=\"1\" class=\"dataframe\">\n",
       "  <thead>\n",
       "    <tr style=\"text-align: right;\">\n",
       "      <th></th>\n",
       "      <th>id</th>\n",
       "      <th>status</th>\n",
       "      <th>chemicalformula</th>\n",
       "      <th>job</th>\n",
       "      <th>subjob</th>\n",
       "      <th>projectpath</th>\n",
       "      <th>project</th>\n",
       "      <th>timestart</th>\n",
       "      <th>timestop</th>\n",
       "      <th>totalcputime</th>\n",
       "      <th>computer</th>\n",
       "      <th>hamilton</th>\n",
       "      <th>hamversion</th>\n",
       "      <th>parentid</th>\n",
       "      <th>masterid</th>\n",
       "    </tr>\n",
       "  </thead>\n",
       "  <tbody>\n",
       "    <tr>\n",
       "      <th>0</th>\n",
       "      <td>98</td>\n",
       "      <td>finished</td>\n",
       "      <td>Al500</td>\n",
       "      <td>lammps_mini</td>\n",
       "      <td>/lammps_mini</td>\n",
       "      <td>/home/muhammad/</td>\n",
       "      <td>workspace/tmp/PMD-workflow-workshop2/3_lammps_damask_workflow/elastic_pipeline/</td>\n",
       "      <td>2021-04-29 00:39:45.740226</td>\n",
       "      <td>2021-04-29 00:39:46.235415</td>\n",
       "      <td>0.0</td>\n",
       "      <td>pyiron@cmleo14#1</td>\n",
       "      <td>Lammps</td>\n",
       "      <td>0.1</td>\n",
       "      <td>None</td>\n",
       "      <td>NaN</td>\n",
       "    </tr>\n",
       "    <tr>\n",
       "      <th>1</th>\n",
       "      <td>99</td>\n",
       "      <td>finished</td>\n",
       "      <td>Al500</td>\n",
       "      <td>master_al</td>\n",
       "      <td>/master_al</td>\n",
       "      <td>/home/muhammad/</td>\n",
       "      <td>workspace/tmp/PMD-workflow-workshop2/3_lammps_damask_workflow/elastic_pipeline/</td>\n",
       "      <td>2021-04-29 00:39:47.199526</td>\n",
       "      <td>2021-04-29 00:39:50.651729</td>\n",
       "      <td>3.0</td>\n",
       "      <td>pyiron@cmleo14#1#4/4</td>\n",
       "      <td>SQSMaster</td>\n",
       "      <td>0.0.1</td>\n",
       "      <td>None</td>\n",
       "      <td>NaN</td>\n",
       "    </tr>\n",
       "    <tr>\n",
       "      <th>2</th>\n",
       "      <td>100</td>\n",
       "      <td>finished</td>\n",
       "      <td>Al498Mg2</td>\n",
       "      <td>sqs_0_005</td>\n",
       "      <td>/sqs_0_005</td>\n",
       "      <td>/home/muhammad/</td>\n",
       "      <td>workspace/tmp/PMD-workflow-workshop2/3_lammps_damask_workflow/elastic_pipeline/master_al_hdf5/</td>\n",
       "      <td>2021-04-29 00:39:47.599948</td>\n",
       "      <td>2021-04-29 00:39:48.075268</td>\n",
       "      <td>0.0</td>\n",
       "      <td>pyiron@cmleo14#1</td>\n",
       "      <td>SQSJob</td>\n",
       "      <td>0.1</td>\n",
       "      <td>None</td>\n",
       "      <td>99.0</td>\n",
       "    </tr>\n",
       "    <tr>\n",
       "      <th>3</th>\n",
       "      <td>101</td>\n",
       "      <td>finished</td>\n",
       "      <td>Al495Mg5</td>\n",
       "      <td>sqs_0_01</td>\n",
       "      <td>/sqs_0_01</td>\n",
       "      <td>/home/muhammad/</td>\n",
       "      <td>workspace/tmp/PMD-workflow-workshop2/3_lammps_damask_workflow/elastic_pipeline/master_al_hdf5/</td>\n",
       "      <td>2021-04-29 00:39:48.427215</td>\n",
       "      <td>2021-04-29 00:39:48.870143</td>\n",
       "      <td>0.0</td>\n",
       "      <td>pyiron@cmleo14#1</td>\n",
       "      <td>SQSJob</td>\n",
       "      <td>0.1</td>\n",
       "      <td>None</td>\n",
       "      <td>99.0</td>\n",
       "    </tr>\n",
       "    <tr>\n",
       "      <th>4</th>\n",
       "      <td>102</td>\n",
       "      <td>finished</td>\n",
       "      <td>Al492Mg8</td>\n",
       "      <td>sqs_0_015</td>\n",
       "      <td>/sqs_0_015</td>\n",
       "      <td>/home/muhammad/</td>\n",
       "      <td>workspace/tmp/PMD-workflow-workshop2/3_lammps_damask_workflow/elastic_pipeline/master_al_hdf5/</td>\n",
       "      <td>2021-04-29 00:39:49.232829</td>\n",
       "      <td>2021-04-29 00:39:49.687223</td>\n",
       "      <td>0.0</td>\n",
       "      <td>pyiron@cmleo14#1</td>\n",
       "      <td>SQSJob</td>\n",
       "      <td>0.1</td>\n",
       "      <td>None</td>\n",
       "      <td>99.0</td>\n",
       "    </tr>\n",
       "    <tr>\n",
       "      <th>5</th>\n",
       "      <td>103</td>\n",
       "      <td>finished</td>\n",
       "      <td>Al490Mg10</td>\n",
       "      <td>sqs_0_02</td>\n",
       "      <td>/sqs_0_02</td>\n",
       "      <td>/home/muhammad/</td>\n",
       "      <td>workspace/tmp/PMD-workflow-workshop2/3_lammps_damask_workflow/elastic_pipeline/master_al_hdf5/</td>\n",
       "      <td>2021-04-29 00:39:50.049933</td>\n",
       "      <td>2021-04-29 00:39:50.634892</td>\n",
       "      <td>0.0</td>\n",
       "      <td>pyiron@cmleo14#1</td>\n",
       "      <td>SQSJob</td>\n",
       "      <td>0.1</td>\n",
       "      <td>None</td>\n",
       "      <td>99.0</td>\n",
       "    </tr>\n",
       "    <tr>\n",
       "      <th>6</th>\n",
       "      <td>104</td>\n",
       "      <td>finished</td>\n",
       "      <td>Al500</td>\n",
       "      <td>elastic_Al500</td>\n",
       "      <td>/elastic_Al500</td>\n",
       "      <td>/home/muhammad/</td>\n",
       "      <td>workspace/tmp/PMD-workflow-workshop2/3_lammps_damask_workflow/elastic_pipeline/</td>\n",
       "      <td>2021-04-29 00:39:55.202153</td>\n",
       "      <td>2021-04-29 00:39:59.327718</td>\n",
       "      <td>4.0</td>\n",
       "      <td>pyiron@cmleo14#1#0</td>\n",
       "      <td>ElasticMatrixJob</td>\n",
       "      <td>0.0.1</td>\n",
       "      <td>None</td>\n",
       "      <td>NaN</td>\n",
       "    </tr>\n",
       "    <tr>\n",
       "      <th>7</th>\n",
       "      <td>105</td>\n",
       "      <td>finished</td>\n",
       "      <td>Al500</td>\n",
       "      <td>elastic_Al500_lammps_tmp</td>\n",
       "      <td>/elastic_Al500_lammps_tmp</td>\n",
       "      <td>/home/muhammad/</td>\n",
       "      <td>workspace/tmp/PMD-workflow-workshop2/3_lammps_damask_workflow/elastic_pipeline/</td>\n",
       "      <td>2021-04-29 00:39:55.967242</td>\n",
       "      <td>2021-04-29 00:39:58.445134</td>\n",
       "      <td>2.0</td>\n",
       "      <td>pyiron@cmleo14#1</td>\n",
       "      <td>Lammps</td>\n",
       "      <td>0.1</td>\n",
       "      <td>None</td>\n",
       "      <td>104.0</td>\n",
       "    </tr>\n",
       "    <tr>\n",
       "      <th>8</th>\n",
       "      <td>106</td>\n",
       "      <td>finished</td>\n",
       "      <td>Al498Mg2</td>\n",
       "      <td>elastic_Al498Mg2</td>\n",
       "      <td>/elastic_Al498Mg2</td>\n",
       "      <td>/home/muhammad/</td>\n",
       "      <td>workspace/tmp/PMD-workflow-workshop2/3_lammps_damask_workflow/elastic_pipeline/</td>\n",
       "      <td>2021-04-29 00:40:00.037555</td>\n",
       "      <td>2021-04-29 00:40:18.600354</td>\n",
       "      <td>18.0</td>\n",
       "      <td>pyiron@cmleo14#1#0</td>\n",
       "      <td>ElasticMatrixJob</td>\n",
       "      <td>0.0.1</td>\n",
       "      <td>None</td>\n",
       "      <td>NaN</td>\n",
       "    </tr>\n",
       "    <tr>\n",
       "      <th>9</th>\n",
       "      <td>107</td>\n",
       "      <td>finished</td>\n",
       "      <td>Al498Mg2</td>\n",
       "      <td>elastic_Al498Mg2_lammps_tmp</td>\n",
       "      <td>/elastic_Al498Mg2_lammps_tmp</td>\n",
       "      <td>/home/muhammad/</td>\n",
       "      <td>workspace/tmp/PMD-workflow-workshop2/3_lammps_damask_workflow/elastic_pipeline/</td>\n",
       "      <td>2021-04-29 00:40:00.500052</td>\n",
       "      <td>2021-04-29 00:40:17.934727</td>\n",
       "      <td>17.0</td>\n",
       "      <td>pyiron@cmleo14#1</td>\n",
       "      <td>Lammps</td>\n",
       "      <td>0.1</td>\n",
       "      <td>None</td>\n",
       "      <td>106.0</td>\n",
       "    </tr>\n",
       "    <tr>\n",
       "      <th>10</th>\n",
       "      <td>108</td>\n",
       "      <td>finished</td>\n",
       "      <td>Al495Mg5</td>\n",
       "      <td>elastic_Al495Mg5</td>\n",
       "      <td>/elastic_Al495Mg5</td>\n",
       "      <td>/home/muhammad/</td>\n",
       "      <td>workspace/tmp/PMD-workflow-workshop2/3_lammps_damask_workflow/elastic_pipeline/</td>\n",
       "      <td>2021-04-29 00:40:22.721718</td>\n",
       "      <td>2021-04-29 00:40:57.110507</td>\n",
       "      <td>34.0</td>\n",
       "      <td>pyiron@cmleo14#1#0</td>\n",
       "      <td>ElasticMatrixJob</td>\n",
       "      <td>0.0.1</td>\n",
       "      <td>None</td>\n",
       "      <td>NaN</td>\n",
       "    </tr>\n",
       "    <tr>\n",
       "      <th>11</th>\n",
       "      <td>109</td>\n",
       "      <td>finished</td>\n",
       "      <td>Al495Mg5</td>\n",
       "      <td>elastic_Al495Mg5_lammps_tmp</td>\n",
       "      <td>/elastic_Al495Mg5_lammps_tmp</td>\n",
       "      <td>/home/muhammad/</td>\n",
       "      <td>workspace/tmp/PMD-workflow-workshop2/3_lammps_damask_workflow/elastic_pipeline/</td>\n",
       "      <td>2021-04-29 00:40:23.541115</td>\n",
       "      <td>2021-04-29 00:40:56.249995</td>\n",
       "      <td>32.0</td>\n",
       "      <td>pyiron@cmleo14#1</td>\n",
       "      <td>Lammps</td>\n",
       "      <td>0.1</td>\n",
       "      <td>None</td>\n",
       "      <td>108.0</td>\n",
       "    </tr>\n",
       "    <tr>\n",
       "      <th>12</th>\n",
       "      <td>110</td>\n",
       "      <td>finished</td>\n",
       "      <td>Al492Mg8</td>\n",
       "      <td>elastic_Al492Mg8</td>\n",
       "      <td>/elastic_Al492Mg8</td>\n",
       "      <td>/home/muhammad/</td>\n",
       "      <td>workspace/tmp/PMD-workflow-workshop2/3_lammps_damask_workflow/elastic_pipeline/</td>\n",
       "      <td>2021-04-29 00:41:04.401548</td>\n",
       "      <td>2021-04-29 00:41:38.212428</td>\n",
       "      <td>33.0</td>\n",
       "      <td>pyiron@cmleo14#1#0</td>\n",
       "      <td>ElasticMatrixJob</td>\n",
       "      <td>0.0.1</td>\n",
       "      <td>None</td>\n",
       "      <td>NaN</td>\n",
       "    </tr>\n",
       "    <tr>\n",
       "      <th>13</th>\n",
       "      <td>111</td>\n",
       "      <td>finished</td>\n",
       "      <td>Al492Mg8</td>\n",
       "      <td>elastic_Al492Mg8_lammps_tmp</td>\n",
       "      <td>/elastic_Al492Mg8_lammps_tmp</td>\n",
       "      <td>/home/muhammad/</td>\n",
       "      <td>workspace/tmp/PMD-workflow-workshop2/3_lammps_damask_workflow/elastic_pipeline/</td>\n",
       "      <td>2021-04-29 00:41:05.156680</td>\n",
       "      <td>2021-04-29 00:41:37.485178</td>\n",
       "      <td>32.0</td>\n",
       "      <td>pyiron@cmleo14#1</td>\n",
       "      <td>Lammps</td>\n",
       "      <td>0.1</td>\n",
       "      <td>None</td>\n",
       "      <td>110.0</td>\n",
       "    </tr>\n",
       "    <tr>\n",
       "      <th>14</th>\n",
       "      <td>112</td>\n",
       "      <td>finished</td>\n",
       "      <td>Al490Mg10</td>\n",
       "      <td>elastic_Al490Mg10</td>\n",
       "      <td>/elastic_Al490Mg10</td>\n",
       "      <td>/home/muhammad/</td>\n",
       "      <td>workspace/tmp/PMD-workflow-workshop2/3_lammps_damask_workflow/elastic_pipeline/</td>\n",
       "      <td>2021-04-29 00:41:49.242406</td>\n",
       "      <td>2021-04-29 00:42:23.309427</td>\n",
       "      <td>34.0</td>\n",
       "      <td>pyiron@cmleo14#1#0</td>\n",
       "      <td>ElasticMatrixJob</td>\n",
       "      <td>0.0.1</td>\n",
       "      <td>None</td>\n",
       "      <td>NaN</td>\n",
       "    </tr>\n",
       "    <tr>\n",
       "      <th>15</th>\n",
       "      <td>113</td>\n",
       "      <td>finished</td>\n",
       "      <td>Al490Mg10</td>\n",
       "      <td>elastic_Al490Mg10_lammps_tmp</td>\n",
       "      <td>/elastic_Al490Mg10_lammps_tmp</td>\n",
       "      <td>/home/muhammad/</td>\n",
       "      <td>workspace/tmp/PMD-workflow-workshop2/3_lammps_damask_workflow/elastic_pipeline/</td>\n",
       "      <td>2021-04-29 00:41:50.149249</td>\n",
       "      <td>2021-04-29 00:42:22.453847</td>\n",
       "      <td>32.0</td>\n",
       "      <td>pyiron@cmleo14#1</td>\n",
       "      <td>Lammps</td>\n",
       "      <td>0.1</td>\n",
       "      <td>None</td>\n",
       "      <td>112.0</td>\n",
       "    </tr>\n",
       "  </tbody>\n",
       "</table>\n",
       "</div>"
      ],
      "text/plain": [
       "     id    status chemicalformula                           job  \\\n",
       "0    98  finished           Al500                   lammps_mini   \n",
       "1    99  finished           Al500                     master_al   \n",
       "2   100  finished        Al498Mg2                     sqs_0_005   \n",
       "3   101  finished        Al495Mg5                      sqs_0_01   \n",
       "4   102  finished        Al492Mg8                     sqs_0_015   \n",
       "5   103  finished       Al490Mg10                      sqs_0_02   \n",
       "6   104  finished           Al500                 elastic_Al500   \n",
       "7   105  finished           Al500      elastic_Al500_lammps_tmp   \n",
       "8   106  finished        Al498Mg2              elastic_Al498Mg2   \n",
       "9   107  finished        Al498Mg2   elastic_Al498Mg2_lammps_tmp   \n",
       "10  108  finished        Al495Mg5              elastic_Al495Mg5   \n",
       "11  109  finished        Al495Mg5   elastic_Al495Mg5_lammps_tmp   \n",
       "12  110  finished        Al492Mg8              elastic_Al492Mg8   \n",
       "13  111  finished        Al492Mg8   elastic_Al492Mg8_lammps_tmp   \n",
       "14  112  finished       Al490Mg10             elastic_Al490Mg10   \n",
       "15  113  finished       Al490Mg10  elastic_Al490Mg10_lammps_tmp   \n",
       "\n",
       "                           subjob      projectpath  \\\n",
       "0                    /lammps_mini  /home/muhammad/   \n",
       "1                      /master_al  /home/muhammad/   \n",
       "2                      /sqs_0_005  /home/muhammad/   \n",
       "3                       /sqs_0_01  /home/muhammad/   \n",
       "4                      /sqs_0_015  /home/muhammad/   \n",
       "5                       /sqs_0_02  /home/muhammad/   \n",
       "6                  /elastic_Al500  /home/muhammad/   \n",
       "7       /elastic_Al500_lammps_tmp  /home/muhammad/   \n",
       "8               /elastic_Al498Mg2  /home/muhammad/   \n",
       "9    /elastic_Al498Mg2_lammps_tmp  /home/muhammad/   \n",
       "10              /elastic_Al495Mg5  /home/muhammad/   \n",
       "11   /elastic_Al495Mg5_lammps_tmp  /home/muhammad/   \n",
       "12              /elastic_Al492Mg8  /home/muhammad/   \n",
       "13   /elastic_Al492Mg8_lammps_tmp  /home/muhammad/   \n",
       "14             /elastic_Al490Mg10  /home/muhammad/   \n",
       "15  /elastic_Al490Mg10_lammps_tmp  /home/muhammad/   \n",
       "\n",
       "                                                                                           project  \\\n",
       "0                  workspace/tmp/PMD-workflow-workshop2/3_lammps_damask_workflow/elastic_pipeline/   \n",
       "1                  workspace/tmp/PMD-workflow-workshop2/3_lammps_damask_workflow/elastic_pipeline/   \n",
       "2   workspace/tmp/PMD-workflow-workshop2/3_lammps_damask_workflow/elastic_pipeline/master_al_hdf5/   \n",
       "3   workspace/tmp/PMD-workflow-workshop2/3_lammps_damask_workflow/elastic_pipeline/master_al_hdf5/   \n",
       "4   workspace/tmp/PMD-workflow-workshop2/3_lammps_damask_workflow/elastic_pipeline/master_al_hdf5/   \n",
       "5   workspace/tmp/PMD-workflow-workshop2/3_lammps_damask_workflow/elastic_pipeline/master_al_hdf5/   \n",
       "6                  workspace/tmp/PMD-workflow-workshop2/3_lammps_damask_workflow/elastic_pipeline/   \n",
       "7                  workspace/tmp/PMD-workflow-workshop2/3_lammps_damask_workflow/elastic_pipeline/   \n",
       "8                  workspace/tmp/PMD-workflow-workshop2/3_lammps_damask_workflow/elastic_pipeline/   \n",
       "9                  workspace/tmp/PMD-workflow-workshop2/3_lammps_damask_workflow/elastic_pipeline/   \n",
       "10                 workspace/tmp/PMD-workflow-workshop2/3_lammps_damask_workflow/elastic_pipeline/   \n",
       "11                 workspace/tmp/PMD-workflow-workshop2/3_lammps_damask_workflow/elastic_pipeline/   \n",
       "12                 workspace/tmp/PMD-workflow-workshop2/3_lammps_damask_workflow/elastic_pipeline/   \n",
       "13                 workspace/tmp/PMD-workflow-workshop2/3_lammps_damask_workflow/elastic_pipeline/   \n",
       "14                 workspace/tmp/PMD-workflow-workshop2/3_lammps_damask_workflow/elastic_pipeline/   \n",
       "15                 workspace/tmp/PMD-workflow-workshop2/3_lammps_damask_workflow/elastic_pipeline/   \n",
       "\n",
       "                    timestart                   timestop  totalcputime  \\\n",
       "0  2021-04-29 00:39:45.740226 2021-04-29 00:39:46.235415           0.0   \n",
       "1  2021-04-29 00:39:47.199526 2021-04-29 00:39:50.651729           3.0   \n",
       "2  2021-04-29 00:39:47.599948 2021-04-29 00:39:48.075268           0.0   \n",
       "3  2021-04-29 00:39:48.427215 2021-04-29 00:39:48.870143           0.0   \n",
       "4  2021-04-29 00:39:49.232829 2021-04-29 00:39:49.687223           0.0   \n",
       "5  2021-04-29 00:39:50.049933 2021-04-29 00:39:50.634892           0.0   \n",
       "6  2021-04-29 00:39:55.202153 2021-04-29 00:39:59.327718           4.0   \n",
       "7  2021-04-29 00:39:55.967242 2021-04-29 00:39:58.445134           2.0   \n",
       "8  2021-04-29 00:40:00.037555 2021-04-29 00:40:18.600354          18.0   \n",
       "9  2021-04-29 00:40:00.500052 2021-04-29 00:40:17.934727          17.0   \n",
       "10 2021-04-29 00:40:22.721718 2021-04-29 00:40:57.110507          34.0   \n",
       "11 2021-04-29 00:40:23.541115 2021-04-29 00:40:56.249995          32.0   \n",
       "12 2021-04-29 00:41:04.401548 2021-04-29 00:41:38.212428          33.0   \n",
       "13 2021-04-29 00:41:05.156680 2021-04-29 00:41:37.485178          32.0   \n",
       "14 2021-04-29 00:41:49.242406 2021-04-29 00:42:23.309427          34.0   \n",
       "15 2021-04-29 00:41:50.149249 2021-04-29 00:42:22.453847          32.0   \n",
       "\n",
       "                computer          hamilton hamversion parentid  masterid  \n",
       "0       pyiron@cmleo14#1            Lammps        0.1     None       NaN  \n",
       "1   pyiron@cmleo14#1#4/4         SQSMaster      0.0.1     None       NaN  \n",
       "2       pyiron@cmleo14#1            SQSJob        0.1     None      99.0  \n",
       "3       pyiron@cmleo14#1            SQSJob        0.1     None      99.0  \n",
       "4       pyiron@cmleo14#1            SQSJob        0.1     None      99.0  \n",
       "5       pyiron@cmleo14#1            SQSJob        0.1     None      99.0  \n",
       "6     pyiron@cmleo14#1#0  ElasticMatrixJob      0.0.1     None       NaN  \n",
       "7       pyiron@cmleo14#1            Lammps        0.1     None     104.0  \n",
       "8     pyiron@cmleo14#1#0  ElasticMatrixJob      0.0.1     None       NaN  \n",
       "9       pyiron@cmleo14#1            Lammps        0.1     None     106.0  \n",
       "10    pyiron@cmleo14#1#0  ElasticMatrixJob      0.0.1     None       NaN  \n",
       "11      pyiron@cmleo14#1            Lammps        0.1     None     108.0  \n",
       "12    pyiron@cmleo14#1#0  ElasticMatrixJob      0.0.1     None       NaN  \n",
       "13      pyiron@cmleo14#1            Lammps        0.1     None     110.0  \n",
       "14    pyiron@cmleo14#1#0  ElasticMatrixJob      0.0.1     None       NaN  \n",
       "15      pyiron@cmleo14#1            Lammps        0.1     None     112.0  "
      ]
     },
     "execution_count": 10,
     "metadata": {},
     "output_type": "execute_result"
    }
   ],
   "source": [
    "pr.job_table()"
   ]
  },
  {
   "cell_type": "markdown",
   "metadata": {},
   "source": [
    "### filtering jobs\n",
    "By the `filter_function`, from the `pr.job_table()` we filter the jobs with name `elastic_*` and not the template lammps jobs."
   ]
  },
  {
   "cell_type": "code",
   "execution_count": 11,
   "metadata": {},
   "outputs": [],
   "source": [
    "def filter_function(job): \n",
    "    return \"elastic_\" in job.job_name and \"lammps_tmp\" not in job.job_name"
   ]
  },
  {
   "cell_type": "markdown",
   "metadata": {},
   "source": [
    "## Obtaining elastic moduli\n",
    "`get_c11`, `get_c12` and `get_c44` functions, look into the queried jobs of the `filter_function` and obtain the elastic moduli from the jobs. "
   ]
  },
  {
   "cell_type": "code",
   "execution_count": 12,
   "metadata": {},
   "outputs": [],
   "source": [
    "def get_c11(job):\n",
    "    return job[\"output/elasticmatrix\"][\"C\"][0,0]\n",
    "\n",
    "def get_c12(job):\n",
    "    return job[\"output/elasticmatrix\"][\"C\"][0,1]\n",
    "\n",
    "def get_c44(job):\n",
    "    return job[\"output/elasticmatrix\"][\"C\"][3,3]"
   ]
  },
  {
   "cell_type": "code",
   "execution_count": 13,
   "metadata": {},
   "outputs": [],
   "source": [
    "table = pr.create_table()"
   ]
  },
  {
   "cell_type": "code",
   "execution_count": 14,
   "metadata": {},
   "outputs": [],
   "source": [
    "table.filter_function = filter_function\n",
    "table.add[\"C11\"] = get_c11\n",
    "table.add[\"C12\"] = get_c12\n",
    "table.add[\"C44\"] = get_c44"
   ]
  },
  {
   "cell_type": "code",
   "execution_count": 15,
   "metadata": {},
   "outputs": [
    {
     "name": "stderr",
     "output_type": "stream",
     "text": [
      "100%|██████████| 17/17 [00:00<00:00, 960.89it/s]\n",
      " 20%|██        | 1/5 [00:00<00:00,  8.98it/s]"
     ]
    },
    {
     "name": "stdout",
     "output_type": "stream",
     "text": [
      "The job table was saved and received the ID: 114\n"
     ]
    },
    {
     "name": "stderr",
     "output_type": "stream",
     "text": [
      "100%|██████████| 5/5 [00:01<00:00,  3.00it/s]\n"
     ]
    }
   ],
   "source": [
    "table.run()"
   ]
  },
  {
   "cell_type": "code",
   "execution_count": 16,
   "metadata": {},
   "outputs": [
    {
     "data": {
      "text/html": [
       "<div>\n",
       "<style scoped>\n",
       "    .dataframe tbody tr th:only-of-type {\n",
       "        vertical-align: middle;\n",
       "    }\n",
       "\n",
       "    .dataframe tbody tr th {\n",
       "        vertical-align: top;\n",
       "    }\n",
       "\n",
       "    .dataframe thead th {\n",
       "        text-align: right;\n",
       "    }\n",
       "</style>\n",
       "<table border=\"1\" class=\"dataframe\">\n",
       "  <thead>\n",
       "    <tr style=\"text-align: right;\">\n",
       "      <th></th>\n",
       "      <th>job_id</th>\n",
       "      <th>C11</th>\n",
       "      <th>C12</th>\n",
       "      <th>C44</th>\n",
       "    </tr>\n",
       "  </thead>\n",
       "  <tbody>\n",
       "    <tr>\n",
       "      <th>0</th>\n",
       "      <td>104</td>\n",
       "      <td>110.193270</td>\n",
       "      <td>61.752630</td>\n",
       "      <td>32.746691</td>\n",
       "    </tr>\n",
       "    <tr>\n",
       "      <th>1</th>\n",
       "      <td>106</td>\n",
       "      <td>111.879613</td>\n",
       "      <td>62.840538</td>\n",
       "      <td>33.243125</td>\n",
       "    </tr>\n",
       "    <tr>\n",
       "      <th>2</th>\n",
       "      <td>108</td>\n",
       "      <td>113.043400</td>\n",
       "      <td>64.484805</td>\n",
       "      <td>34.110036</td>\n",
       "    </tr>\n",
       "    <tr>\n",
       "      <th>3</th>\n",
       "      <td>110</td>\n",
       "      <td>114.186882</td>\n",
       "      <td>66.304002</td>\n",
       "      <td>34.947656</td>\n",
       "    </tr>\n",
       "    <tr>\n",
       "      <th>4</th>\n",
       "      <td>112</td>\n",
       "      <td>115.628680</td>\n",
       "      <td>67.263743</td>\n",
       "      <td>35.473180</td>\n",
       "    </tr>\n",
       "  </tbody>\n",
       "</table>\n",
       "</div>"
      ],
      "text/plain": [
       "   job_id         C11        C12        C44\n",
       "0     104  110.193270  61.752630  32.746691\n",
       "1     106  111.879613  62.840538  33.243125\n",
       "2     108  113.043400  64.484805  34.110036\n",
       "3     110  114.186882  66.304002  34.947656\n",
       "4     112  115.628680  67.263743  35.473180"
      ]
     },
     "execution_count": 16,
     "metadata": {},
     "output_type": "execute_result"
    }
   ],
   "source": [
    "df_data = table.get_dataframe()\n",
    "df_data"
   ]
  },
  {
   "cell_type": "markdown",
   "metadata": {},
   "source": [
    "## Analysis\n",
    "\n",
    "Finally, let's use numpy to make a polynomial fit of our elastic constants to alloying concentration and visualize the results.\n",
    "\n",
    "Note: pure-Al data lines up very nicely with the pure Al elastic constants [reported on the NIST website for this potential](https://www.ctcms.nist.gov/potentials/entry/2009--Mendelev-M-I-Asta-M-Rahman-M-J-Hoyt-J-J--Al-Mg/2009--Mendelev-M-I--Al-Mg--LAMMPS--ipr1.html)."
   ]
  },
  {
   "cell_type": "code",
   "execution_count": 17,
   "metadata": {},
   "outputs": [],
   "source": [
    "concentrations = np.array(concentration_lst)"
   ]
  },
  {
   "cell_type": "code",
   "execution_count": 18,
   "metadata": {},
   "outputs": [],
   "source": [
    "C11_data = df_data[\"C11\"].values\n",
    "C12_data = df_data[\"C12\"].values\n",
    "C44_data = df_data[\"C44\"].values"
   ]
  },
  {
   "cell_type": "code",
   "execution_count": 19,
   "metadata": {
    "ExecuteTime": {
     "end_time": "2020-10-05T08:18:13.444764Z",
     "start_time": "2020-10-05T08:18:13.425319Z"
    }
   },
   "outputs": [],
   "source": [
    "fit_degree = 2\n",
    "C11_fit = np.polyfit(concentrations, C11_data, deg=fit_degree)\n",
    "C12_fit = np.polyfit(concentrations, C12_data, deg=fit_degree)\n",
    "C44_fit = np.polyfit(concentrations, C44_data, deg=fit_degree)\n",
    "c = np.linspace(concentrations.min(), concentrations.max(), 100)  # 'Continuous' concentration"
   ]
  },
  {
   "cell_type": "code",
   "execution_count": 20,
   "metadata": {
    "ExecuteTime": {
     "end_time": "2020-10-05T08:18:13.478125Z",
     "start_time": "2020-10-05T08:18:13.465417Z"
    }
   },
   "outputs": [
    {
     "name": "stdout",
     "output_type": "stream",
     "text": [
      "[-1455.41215732   292.67002594   110.27798032]\n",
      "[-232.58951752  294.36557718   61.62037628]\n",
      "[ 82.53942106 141.49939749  32.67676254]\n"
     ]
    }
   ],
   "source": [
    "# p(x) = p[0] * x**deg + ... + p[deg]\n",
    "print(C11_fit)\n",
    "print(C12_fit)\n",
    "print(C44_fit)"
   ]
  },
  {
   "cell_type": "code",
   "execution_count": 21,
   "metadata": {
    "ExecuteTime": {
     "end_time": "2020-10-05T08:18:14.491958Z",
     "start_time": "2020-10-05T08:18:13.507439Z"
    }
   },
   "outputs": [
    {
     "data": {
      "image/png": "[encoded data removed]",
      "text/plain": [
       "<Figure size 432x288 with 1 Axes>"
      ]
     },
     "metadata": {
      "needs_background": "light"
     },
     "output_type": "display_data"
    }
   ],
   "source": [
    "for color, data, fit, label in zip(\n",
    "    sns.color_palette(n_colors=3), \n",
    "    [C11_data, C12_data, C44_data], \n",
    "    [C11_fit, C12_fit, C44_fit],\n",
    "    ['C11', 'C12', 'C44']\n",
    "):\n",
    "    plt.scatter(concentrations, data, color=color)\n",
    "    plt.plot(c, np.polyval(fit, c), color=color, label=label)\n",
    "plt.xlabel('Mg concentration')\n",
    "plt.ylabel('Elastic constant (GPa)')\n",
    "plt.legend()\n",
    "plt.show()"
   ]
  },
  {
   "cell_type": "markdown",
   "metadata": {},
   "source": [
    "## DAMASK Simulations\n",
    "The steps include, defining:\n",
    "- geometries\n",
    "- grains\n",
    "- loading\n",
    "- material properties based on the atomistically-evaluated \n",
    "- perfoming simulations"
   ]
  },
  {
   "cell_type": "code",
   "execution_count": 22,
   "metadata": {},
   "outputs": [],
   "source": [
    "concentration_sample = [concentrations[0],concentrations[-1]]"
   ]
  },
  {
   "cell_type": "code",
   "execution_count": 23,
   "metadata": {},
   "outputs": [],
   "source": [
    "with open('../pyiron/resources/damask/material.yaml') as f:\n",
    "    material = yaml.load(f, Loader=yaml.FullLoader)\n",
    "with open('../pyiron/resources/damask/tensionX.load') as f:\n",
    "    tension = f.readlines()"
   ]
  },
  {
   "cell_type": "markdown",
   "metadata": {},
   "source": [
    "### Exercise: \n",
    "In order to create DAMASK jobs for the given number of concentration, please fill in the missing line. "
   ]
  },
  {
   "cell_type": "code",
   "execution_count": 24,
   "metadata": {},
   "outputs": [
    {
     "name": "stdout",
     "output_type": "stream",
     "text": [
      "The job damask_mg_0 was saved and received the ID: 115\n",
      "The job damask_mg_2 was saved and received the ID: 116\n"
     ]
    }
   ],
   "source": [
    "job_lst = []\n",
    "for i,c in enumerate(concentration_sample):\n",
    "    job = pr.create_job(pr.job_type.DAMASKjob, \"damask_\" + 'mg_{}'.format(int(c*100)))\n",
    "    job.material = material\n",
    "    job.tension = tension\n",
    "    job.input['C11'] = float(np.polyval(C11_fit, c))\n",
    "    job.input['C12'] = float(np.polyval(C12_fit, c))\n",
    "    job.input['C44'] = float(np.polyval(C44_fit, c))\n",
    "    job.run()\n",
    "    job_lst.append(job)"
   ]
  },
  {
   "cell_type": "markdown",
   "metadata": {},
   "source": [
    "## Post-processing DAMASK simulations\n",
    "- Von-Mises stress for each case is calculated\n",
    "- The Stress-strain data is evaluated for each case\n"
   ]
  },
  {
   "cell_type": "code",
   "execution_count": 25,
   "metadata": {},
   "outputs": [
    {
     "name": "stderr",
     "output_type": "stream",
     "text": [
      " ██████████████████████████████████████████████████ 100% ETA 0:00:00\n",
      " ██████████████████████████████████████████████████ 100% ETA 0:00:00\n",
      " ██████████████████████████████████████████████████ 100% ETA 0:00:00\n",
      " ██████████████████████████████████████████████████ 100% ETA 0:00:00\n",
      " ██████████████████████████████████████████████████ 100% ETA 0:00:00\n",
      " ██████████████████████████████████████████████████ 100% ETA 0:00:00\n",
      " ██████████████████████████████████████████████████ 100% ETA 0:00:00\n",
      " ██████████████████████████████████████████████████ 100% ETA 0:00:00\n",
      " ██████████████████████████████████████████████████ 100% ETA 0:00:00\n",
      " ██████████████████████████████████████████████████ 100% ETA 0:00:00\n",
      " ██████████████████████████████████████████████████ 100% ETA 0:00:00\n",
      " ██████████████████████████████████████████████████ 100% ETA 0:00:00\n",
      " ██████████████████████████████████████████████████ 100% ETA 0:00:00\n",
      " ██████████████████████████████████████████████████ 100% ETA 0:00:00\n"
     ]
    }
   ],
   "source": [
    "stresses, strains = [], []\n",
    "for job in job_lst: \n",
    "    damask_results = job.output\n",
    "    damask_results.add_stress_Cauchy()\n",
    "    damask_results.add_strain()\n",
    "    damask_results.add_equivalent_Mises('sigma')\n",
    "    damask_results.add_equivalent_Mises('epsilon_V^0.0(F)')\n",
    "    damask_results.add_calculation('avg_sigma',\"np.average(#sigma_vM#)\")\n",
    "    damask_results.add_calculation('avg_epsilon',\"np.average(#epsilon_V^0.0(F)_vM#)\")\n",
    "    damask_results.save_VTK(['sigma','epsilon_V^0.0(F)','sigma_vM','epsilon_V^0.0(F)_vM'])\n",
    "    stresses.append(job.eval_stress())\n",
    "    strains.append(job.eval_strain())"
   ]
  },
  {
   "cell_type": "markdown",
   "metadata": {},
   "source": [
    "## Visualization\n",
    "### Von-Mises Stress"
   ]
  },
  {
   "cell_type": "code",
   "execution_count": 26,
   "metadata": {},
   "outputs": [],
   "source": [
    "import os"
   ]
  },
  {
   "cell_type": "code",
   "execution_count": 27,
   "metadata": {},
   "outputs": [],
   "source": [
    "import pyvista as pv\n",
    "inc=20\n",
    "mesh = pv.read(os.path.basename(job.output_file.split('.')[0]) + f'_inc0{inc}.vtr')  #enter the file name you wish to view"
   ]
  },
  {
   "cell_type": "code",
   "execution_count": 28,
   "metadata": {},
   "outputs": [
    {
     "data": {
      "text/html": [
       "<table><tr><th>Header</th><th>Data Arrays</th></tr><tr><td>\n",
       "<table>\n",
       "<tr><th>RectilinearGrid</th><th>Information</th></tr>\n",
       "<tr><td>N Cells</td><td>4096</td></tr>\n",
       "<tr><td>N Points</td><td>4913</td></tr>\n",
       "<tr><td>X Bounds</td><td>0.000e+00, 1.000e+00</td></tr>\n",
       "<tr><td>Y Bounds</td><td>0.000e+00, 1.000e+00</td></tr>\n",
       "<tr><td>Z Bounds</td><td>0.000e+00, 1.000e+00</td></tr>\n",
       "<tr><td>Dimensions</td><td>17, 17, 17</td></tr>\n",
       "<tr><td>N Arrays</td><td>5</td></tr>\n",
       "</table>\n",
       "\n",
       "</td><td>\n",
       "<table>\n",
       "<tr><th>Name</th><th>Field</th><th>Type</th><th>N Comp</th><th>Min</th><th>Max</th></tr>\n",
       "<tr><td><b>u</b></td><td>Points</td><td>float32</td><td>3</td><td>-2.914e-03</td><td>5.266e-03</td></tr>\n",
       "<tr><td>phase/mechanics/sigma / Pa</td><td>Cells</td><td>float32</td><td>9</td><td>-8.754e+07</td><td>1.532e+08</td></tr>\n",
       "<tr><td>phase/mechanics/epsilon_V^0.0(F) / 1</td><td>Cells</td><td>float32</td><td>9</td><td>-8.657e-03</td><td>1.126e-02</td></tr>\n",
       "<tr><td>phase/mechanics/sigma_vM / Pa</td><td>Cells</td><td>float32</td><td>1</td><td>5.698e+07</td><td>1.312e+08</td></tr>\n",
       "<tr><td>phase/mechanics/epsilon_V^0.0(F)_vM / 1</td><td>Cells</td><td>float32</td><td>1</td><td>1.062e-03</td><td>1.250e-02</td></tr>\n",
       "</table>\n",
       "\n",
       "</td></tr> </table>"
      ],
      "text/plain": [
       "RectilinearGrid (0x7f5baf9079a0)\n",
       "  N Cells:\t4096\n",
       "  N Points:\t4913\n",
       "  X Bounds:\t0.000e+00, 1.000e+00\n",
       "  Y Bounds:\t0.000e+00, 1.000e+00\n",
       "  Z Bounds:\t0.000e+00, 1.000e+00\n",
       "  Dimensions:\t17, 17, 17\n",
       "  N Arrays:\t5"
      ]
     },
     "execution_count": 28,
     "metadata": {},
     "output_type": "execute_result"
    }
   ],
   "source": [
    "from itkwidgets import view\n",
    "import itk\n",
    "mesh"
   ]
  },
  {
   "cell_type": "code",
   "execution_count": 29,
   "metadata": {},
   "outputs": [
    {
     "data": {
      "application/vnd.jupyter.widget-view+json": {
       "model_id": "e1c27d0880e04076a997393a940d3362",
       "version_major": 2,
       "version_minor": 0
      },
      "text/plain": [
       "Viewer(geometries=[{'vtkClass': 'vtkPolyData', 'points': {'vtkClass': 'vtkPoints', 'name': '_points', 'numberO…"
      ]
     },
     "metadata": {},
     "output_type": "display_data"
    },
    {
     "data": {
      "application/vnd.jupyter.widget-view+json": {
       "model_id": "e1c27d0880e04076a997393a940d3362",
       "version_major": 2,
       "version_minor": 0
      },
      "text/plain": [
       "Viewer(geometries=[{'vtkClass': 'vtkPolyData', 'points': {'vtkClass': 'vtkPoints', 'name': '_points', 'numberO…"
      ]
     },
     "metadata": {},
     "output_type": "display_data"
    }
   ],
   "source": [
    "pl = pv.PlotterITK()\n",
    "pl.add_mesh(mesh)\n",
    "pl.show()"
   ]
  },
  {
   "cell_type": "markdown",
   "metadata": {},
   "source": [
    "### Stress-strain curve"
   ]
  },
  {
   "cell_type": "code",
   "execution_count": 30,
   "metadata": {},
   "outputs": [],
   "source": [
    "%matplotlib inline"
   ]
  },
  {
   "cell_type": "code",
   "execution_count": 31,
   "metadata": {},
   "outputs": [
    {
     "data": {
      "text/plain": [
       "Text(0.5, 1.0, 'Stress-Strain')"
      ]
     },
     "execution_count": 31,
     "metadata": {},
     "output_type": "execute_result"
    },
    {
     "data": {
      "image/png": "[encoded data removed]",
      "text/plain": [
       "<Figure size 432x288 with 1 Axes>"
      ]
     },
     "metadata": {
      "needs_background": "light"
     },
     "output_type": "display_data"
    }
   ],
   "source": [
    "i = 0;\n",
    "colors = ['r','g','b']\n",
    "#for color, strain, stress, c in zip(colors, strains, stresses, concentrations):\n",
    "plt.plot(strains[0], stresses[0], 'r', linewidth=2, label = 'Mg={}%'.format(0*100))\n",
    "plt.plot(strains[1], stresses[1], 'b', linestyle=\"None\",marker = 'o' ,label = 'Mg={}%'.format(0.01*100))\n",
    "#plt.plot(strains[1], stresses[2], 'g', linestyle=\"None\",marker = '*' ,label = 'Mg={}%'.format(0.02*100))\n",
    "#plt.ylim(90, 95)\n",
    "plt.grid(True)\n",
    "plt.xlabel('$Strain$')\n",
    "plt.ylabel('Stress- MPa')\n",
    "plt.legend( loc='lower right')\n",
    "plt.title(\"Stress-Strain\")\n",
    " #   i= i+1;"
   ]
  },
  {
   "cell_type": "code",
   "execution_count": null,
   "metadata": {},
   "outputs": [],
   "source": []
  }
 ],
 "metadata": {
  "kernelspec": {
   "display_name": "Python 3",
   "language": "python",
   "name": "python3"
  },
  "language_info": {
   "codemirror_mode": {
    "name": "ipython",
    "version": 3
   },
   "file_extension": ".py",
   "mimetype": "text/x-python",
   "name": "python",
   "nbconvert_exporter": "python",
   "pygments_lexer": "ipython3",
   "version": "3.8.8"
  },
  "toc": {
   "base_numbering": 1,
   "nav_menu": {},
   "number_sections": true,
   "sideBar": true,
   "skip_h1_title": false,
   "title_cell": "Table of Contents",
   "title_sidebar": "Contents",
   "toc_cell": false,
   "toc_position": {},
   "toc_section_display": true,
   "toc_window_display": false
  }
 },
 "nbformat": 4,
 "nbformat_minor": 4
}
