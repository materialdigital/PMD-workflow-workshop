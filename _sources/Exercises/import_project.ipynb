{
 "cells": [
  {
   "cell_type": "markdown",
   "id": "b528c81c-3900-429e-87f9-d4087e9fac22",
   "metadata": {},
   "source": [
    "# Importing a project"
   ]
  },
  {
   "cell_type": "code",
   "execution_count": 1,
   "id": "a4120319-136b-46ad-995a-4912e5accac1",
   "metadata": {},
   "outputs": [],
   "source": [
    "from pyiron_atomistics import Project"
   ]
  },
  {
   "cell_type": "code",
   "execution_count": 2,
   "id": "d41a6c72-06be-43b1-a154-222504c9655d",
   "metadata": {},
   "outputs": [],
   "source": [
    "pr = Project(\"imported_proj\")\n",
    "pr.remove_jobs_silently(recursive=True)"
   ]
  },
  {
   "cell_type": "code",
   "execution_count": 3,
   "id": "80722bd4-63a1-4d94-b33d-2e1444b33d08",
   "metadata": {},
   "outputs": [],
   "source": [
    "pr.unpack(csv_file_name='export.csv',origin_path='lammps_project')"
   ]
  },
  {
   "cell_type": "markdown",
   "id": "79766114-63fb-4495-ae42-a3f7dd0707eb",
   "metadata": {},
   "source": [
    "## Testing our import"
   ]
  },
  {
   "cell_type": "markdown",
   "id": "019e317f-15d9-4ef1-90e4-6b0af56a2499",
   "metadata": {},
   "source": [
    "### Exercise1:  \n",
    "inspect the `job_table`"
   ]
  },
  {
   "cell_type": "code",
   "execution_count": 4,
   "id": "ce5850fb-87b4-44ba-a0ce-97256bd2e148",
   "metadata": {},
   "outputs": [
    {
     "data": {
      "text/html": [
       "<div>\n",
       "<style scoped>\n",
       "    .dataframe tbody tr th:only-of-type {\n",
       "        vertical-align: middle;\n",
       "    }\n",
       "\n",
       "    .dataframe tbody tr th {\n",
       "        vertical-align: top;\n",
       "    }\n",
       "\n",
       "    .dataframe thead th {\n",
       "        text-align: right;\n",
       "    }\n",
       "</style>\n",
       "<table border=\"1\" class=\"dataframe\">\n",
       "  <thead>\n",
       "    <tr style=\"text-align: right;\">\n",
       "      <th></th>\n",
       "      <th>id</th>\n",
       "      <th>status</th>\n",
       "      <th>chemicalformula</th>\n",
       "      <th>job</th>\n",
       "      <th>subjob</th>\n",
       "      <th>projectpath</th>\n",
       "      <th>project</th>\n",
       "      <th>timestart</th>\n",
       "      <th>timestop</th>\n",
       "      <th>totalcputime</th>\n",
       "      <th>computer</th>\n",
       "      <th>hamilton</th>\n",
       "      <th>hamversion</th>\n",
       "      <th>parentid</th>\n",
       "      <th>masterid</th>\n",
       "    </tr>\n",
       "  </thead>\n",
       "  <tbody>\n",
       "    <tr>\n",
       "      <th>0</th>\n",
       "      <td>65</td>\n",
       "      <td>finished</td>\n",
       "      <td>Al108</td>\n",
       "      <td>Al_T800K</td>\n",
       "      <td>/Al_T800K</td>\n",
       "      <td>/home/muhammad/</td>\n",
       "      <td>workspace/tmp/PMD-workflow-workshop/imported_proj/first_steps/</td>\n",
       "      <td>2021-04-27 02:43:04.398418</td>\n",
       "      <td>2021-04-27 02:43:06.428305</td>\n",
       "      <td>2.0</td>\n",
       "      <td>pyiron@cmleo14#1</td>\n",
       "      <td>Lammps</td>\n",
       "      <td>0.1</td>\n",
       "      <td>None</td>\n",
       "      <td>None</td>\n",
       "    </tr>\n",
       "    <tr>\n",
       "      <th>1</th>\n",
       "      <td>66</td>\n",
       "      <td>finished</td>\n",
       "      <td>Al108</td>\n",
       "      <td>Al_T200K</td>\n",
       "      <td>/Al_T200K</td>\n",
       "      <td>/home/muhammad/</td>\n",
       "      <td>workspace/tmp/PMD-workflow-workshop/imported_proj/first_steps/</td>\n",
       "      <td>2021-04-27 03:06:20.410345</td>\n",
       "      <td>2021-04-27 03:06:22.363131</td>\n",
       "      <td>1.0</td>\n",
       "      <td>pyiron@cmleo14#1</td>\n",
       "      <td>Lammps</td>\n",
       "      <td>0.1</td>\n",
       "      <td>None</td>\n",
       "      <td>None</td>\n",
       "    </tr>\n",
       "    <tr>\n",
       "      <th>2</th>\n",
       "      <td>67</td>\n",
       "      <td>finished</td>\n",
       "      <td>Al108</td>\n",
       "      <td>Al_T400K</td>\n",
       "      <td>/Al_T400K</td>\n",
       "      <td>/home/muhammad/</td>\n",
       "      <td>workspace/tmp/PMD-workflow-workshop/imported_proj/first_steps/</td>\n",
       "      <td>2021-04-27 03:06:22.894415</td>\n",
       "      <td>2021-04-27 03:06:24.984784</td>\n",
       "      <td>2.0</td>\n",
       "      <td>pyiron@cmleo14#1</td>\n",
       "      <td>Lammps</td>\n",
       "      <td>0.1</td>\n",
       "      <td>None</td>\n",
       "      <td>None</td>\n",
       "    </tr>\n",
       "    <tr>\n",
       "      <th>3</th>\n",
       "      <td>68</td>\n",
       "      <td>finished</td>\n",
       "      <td>Al108</td>\n",
       "      <td>Al_T600K</td>\n",
       "      <td>/Al_T600K</td>\n",
       "      <td>/home/muhammad/</td>\n",
       "      <td>workspace/tmp/PMD-workflow-workshop/imported_proj/first_steps/</td>\n",
       "      <td>2021-04-27 03:06:25.604594</td>\n",
       "      <td>2021-04-27 03:06:27.670037</td>\n",
       "      <td>2.0</td>\n",
       "      <td>pyiron@cmleo14#1</td>\n",
       "      <td>Lammps</td>\n",
       "      <td>0.1</td>\n",
       "      <td>None</td>\n",
       "      <td>None</td>\n",
       "    </tr>\n",
       "    <tr>\n",
       "      <th>4</th>\n",
       "      <td>69</td>\n",
       "      <td>finished</td>\n",
       "      <td>Al108</td>\n",
       "      <td>Al_T1000K</td>\n",
       "      <td>/Al_T1000K</td>\n",
       "      <td>/home/muhammad/</td>\n",
       "      <td>workspace/tmp/PMD-workflow-workshop/imported_proj/first_steps/</td>\n",
       "      <td>2021-04-27 03:06:28.976964</td>\n",
       "      <td>2021-04-27 03:06:31.090220</td>\n",
       "      <td>2.0</td>\n",
       "      <td>pyiron@cmleo14#1</td>\n",
       "      <td>Lammps</td>\n",
       "      <td>0.1</td>\n",
       "      <td>None</td>\n",
       "      <td>None</td>\n",
       "    </tr>\n",
       "  </tbody>\n",
       "</table>\n",
       "</div>"
      ],
      "text/plain": [
       "   id    status chemicalformula        job      subjob      projectpath  \\\n",
       "0  65  finished           Al108   Al_T800K   /Al_T800K  /home/muhammad/   \n",
       "1  66  finished           Al108   Al_T200K   /Al_T200K  /home/muhammad/   \n",
       "2  67  finished           Al108   Al_T400K   /Al_T400K  /home/muhammad/   \n",
       "3  68  finished           Al108   Al_T600K   /Al_T600K  /home/muhammad/   \n",
       "4  69  finished           Al108  Al_T1000K  /Al_T1000K  /home/muhammad/   \n",
       "\n",
       "                                                          project  \\\n",
       "0  workspace/tmp/PMD-workflow-workshop/imported_proj/first_steps/   \n",
       "1  workspace/tmp/PMD-workflow-workshop/imported_proj/first_steps/   \n",
       "2  workspace/tmp/PMD-workflow-workshop/imported_proj/first_steps/   \n",
       "3  workspace/tmp/PMD-workflow-workshop/imported_proj/first_steps/   \n",
       "4  workspace/tmp/PMD-workflow-workshop/imported_proj/first_steps/   \n",
       "\n",
       "                   timestart                   timestop  totalcputime  \\\n",
       "0 2021-04-27 02:43:04.398418 2021-04-27 02:43:06.428305           2.0   \n",
       "1 2021-04-27 03:06:20.410345 2021-04-27 03:06:22.363131           1.0   \n",
       "2 2021-04-27 03:06:22.894415 2021-04-27 03:06:24.984784           2.0   \n",
       "3 2021-04-27 03:06:25.604594 2021-04-27 03:06:27.670037           2.0   \n",
       "4 2021-04-27 03:06:28.976964 2021-04-27 03:06:31.090220           2.0   \n",
       "\n",
       "           computer hamilton hamversion parentid masterid  \n",
       "0  pyiron@cmleo14#1   Lammps        0.1     None     None  \n",
       "1  pyiron@cmleo14#1   Lammps        0.1     None     None  \n",
       "2  pyiron@cmleo14#1   Lammps        0.1     None     None  \n",
       "3  pyiron@cmleo14#1   Lammps        0.1     None     None  \n",
       "4  pyiron@cmleo14#1   Lammps        0.1     None     None  "
      ]
     },
     "execution_count": 4,
     "metadata": {},
     "output_type": "execute_result"
    }
   ],
   "source": []
  },
  {
   "cell_type": "markdown",
   "id": "782812c7-e099-42d3-b713-eb3d29a9d35e",
   "metadata": {},
   "source": [
    "### Exercise2:  \n",
    "With the help of pyiron GUI, plot the temperature of the job `Al_T800K`."
   ]
  },
  {
   "cell_type": "code",
   "execution_count": 5,
   "id": "68315bc5-721a-4227-85a9-0b1a8fea674c",
   "metadata": {},
   "outputs": [
    {
     "data": {
      "application/vnd.jupyter.widget-view+json": {
       "model_id": "79ac18a2fa874e10949ccee9ce232a03",
       "version_major": 2,
       "version_minor": 0
      },
      "text/plain": [
       "VBox(children=(HBox(children=(VBox(children=(Select(description='Groups:', options=('.', '..', 'first_steps'),…"
      ]
     },
     "metadata": {},
     "output_type": "display_data"
    }
   ],
   "source": []
  },
  {
   "cell_type": "code",
   "execution_count": null,
   "id": "36b1dc76-823c-4c87-879d-7202f8f4ea49",
   "metadata": {},
   "outputs": [],
   "source": []
  }
 ],
 "metadata": {
  "kernelspec": {
   "display_name": "Python 3",
   "language": "python",
   "name": "python3"
  },
  "language_info": {
   "codemirror_mode": {
    "name": "ipython",
    "version": 3
   },
   "file_extension": ".py",
   "mimetype": "text/x-python",
   "name": "python",
   "nbconvert_exporter": "python",
   "pygments_lexer": "ipython3",
   "version": "3.8.8"
  }
 },
 "nbformat": 4,
 "nbformat_minor": 5
}
