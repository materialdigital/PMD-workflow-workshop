{
 "cells": [
  {
   "cell_type": "markdown",
   "metadata": {},
   "source": [
    "# Integrating a generic, python tool in pyiron (Level B, recommended approach)\n",
    "\n",
    "If we need to repeatedly, perform a combination of processes to return a value, a plot, etc., it might make sense to create a Job class for it. Here, we create a simple workflow using available python tools for a specific problem.\n",
    "\n",
    "Problem: \n",
    "we are given as an input the positions of a some particles, plus a energy constant.  \n",
    "the goal of the workflow: \n",
    "- calculate the mean harmonic energy\n",
    "- return a 3D plot of the cloud of particles."
   ]
  },
  {
   "cell_type": "code",
   "execution_count": 1,
   "metadata": {},
   "outputs": [],
   "source": [
    "from pyiron_base import PythonTemplateJob, DataContainer\n",
    "import numpy as np\n",
    "import math\n",
    "import matplotlib.pyplot as plt"
   ]
  },
  {
   "cell_type": "code",
   "execution_count": 2,
   "metadata": {},
   "outputs": [],
   "source": [
    "class harmonicEnergy(PythonTemplateJob):\n",
    "    def __init__(self, project, job_name):\n",
    "        super(harmonicEnergy, self).__init__(project, job_name)\n",
    "        self.input=DataContainer(table_name='inputs')\n",
    "\n",
    "    def read_input(self, file_name):\n",
    "        self.input.read(file_name)\n",
    "    \n",
    "    def calc_mean_harmonic_energy(self):\n",
    "        counter=0\n",
    "        d2=0\n",
    "        for i,p1 in enumerate(self.input.positions.to_builtin()):\n",
    "            for p2 in self.input.positions.to_builtin()[i+1:]:\n",
    "                p2_vec=np.array(p2)\n",
    "                p1_vec=np.array(p1)\n",
    "                d = p2_vec - p1_vec\n",
    "                d_val = math.sqrt(np.dot(d, d))-self.input.equilibrium_lengh\n",
    "                d2+=d_val**2\n",
    "                counter+=1\n",
    "        self.avg_d2=d2/counter\n",
    "        self.avg_energy=self.input.energy_constant*self.avg_d2\n",
    "    \n",
    "    def scatter_plot(self):\n",
    "        x = [ self.input.positions.to_builtin()[k][0] for k in range(0, len(self.input.positions.to_builtin()))]\n",
    "        y = [ self.input.positions.to_builtin()[k][1] for k in range(0, len(self.input.positions.to_builtin()))]\n",
    "        z = [ self.input.positions.to_builtin()[k][1] for k in range(0,len(self.input.positions.to_builtin()))]\n",
    "        fig = plt.figure()\n",
    "        ax = fig.add_subplot(projection='3d')\n",
    "        ax.scatter(x, y, z, marker='o')\n",
    "\n",
    "    # This function is executed \n",
    "    def run_static(self):\n",
    "        self.calc_mean_harmonic_energy()\n",
    "        with self.project_hdf5.open(\"output/generic\") as h5out: \n",
    "             h5out[\"avg_harmonic_energy\"] = self.avg_energy\n",
    "        self.status.finished = True"
   ]
  },
  {
   "cell_type": "markdown",
   "metadata": {},
   "source": [
    "## Exercise 1:\n",
    "Create a project and a job of type harmonicEnergy, which reads in `input.yml` and calculates the mean harmonic energy. Also create the 3d scatter plot of the particles."
   ]
  },
  {
   "cell_type": "code",
   "execution_count": 3,
   "metadata": {},
   "outputs": [],
   "source": [
    "from pyiron_base import Project\n",
    "pr=Project(\"python_demo\")\n",
    "pr.remove_jobs_silently(recursive=True)"
   ]
  },
  {
   "cell_type": "code",
   "execution_count": 4,
   "metadata": {},
   "outputs": [],
   "source": [
    "job=pr.create_job(job_type=harmonicEnergy, job_name='harmonic_energy')"
   ]
  },
  {
   "cell_type": "code",
   "execution_count": 5,
   "metadata": {},
   "outputs": [],
   "source": [
    "job.read_input('input.yml')"
   ]
  },
  {
   "cell_type": "code",
   "execution_count": 6,
   "metadata": {},
   "outputs": [
    {
     "name": "stdout",
     "output_type": "stream",
     "text": [
      "The job harmonic_energy was saved and received the ID: 117\n"
     ]
    }
   ],
   "source": [
    "job.run()"
   ]
  },
  {
   "cell_type": "code",
   "execution_count": 7,
   "metadata": {},
   "outputs": [
    {
     "data": {
      "application/json": {
       "energy_constant": "0.1",
       "equilibrium_lengh": "5.0",
       "positions": [
        [
         "3.137544466813198",
         "-1.980814354656597",
         "-4.197124310786901"
        ],
        [
         "-2.6890042295246017",
         "1.8501549920906113",
         "0.023231338665228307"
        ],
        [
         "-0.21694792294922394",
         "4.52462902567602",
         "4.747091691273553"
        ],
        [
         "-1.3730328920596602",
         "3.345133072507805",
         "-2.3966747431507196"
        ],
        [
         "2.7537916983387056",
         "1.6128594035836397",
         "4.1022385836569"
        ],
        [
         "-4.670628783489295",
         "-3.4027456446008153",
         "-1.2682900977875233"
        ],
        [
         "-0.024009392615576886",
         "-0.7000473804666187",
         "0.2955825557994345"
        ],
        [
         "3.8025392209805897",
         "-4.370649970003432",
         "-0.20762411583497542"
        ],
        [
         "-2.788465316883393",
         "4.449722862556019",
         "-3.1178268869918546"
        ],
        [
         "2.4406679645582585",
         "-0.2785484738255857",
         "-2.6818032676754067"
        ],
        [
         "-4.11093749753287",
         "4.011545224548557",
         "-2.570528164948338"
        ],
        [
         "-3.90282132805013",
         "-3.629025741377605",
         "3.5767107804003277"
        ],
        [
         "-0.6603668770271973",
         "-0.3738802422299585",
         "-4.474830175227286"
        ],
        [
         "-3.599320542923353",
         "-3.2866771577781995",
         "1.6203959332493252"
        ],
        [
         "-3.254427885686062",
         "-4.83684975815674",
         "-3.050720157376998"
        ],
        [
         "4.559778458092227",
         "3.3162849367287706",
         "0.8296556544285298"
        ],
        [
         "-1.3771992590308124",
         "-3.314388219124896",
         "-4.868978060931331"
        ],
        [
         "-0.7667646728476152",
         "-3.634026833467291",
         "-3.557807258303818"
        ],
        [
         "-3.840032170008806",
         "-2.371455901138173",
         "-0.8652606412581676"
        ],
        [
         "2.450467252735109",
         "1.5039459711659404",
         "1.5965086685722971"
        ],
        [
         "1.0665140929839154",
         "1.933109799659988",
         "2.873831669544165"
        ],
        [
         "4.557345443186108",
         "0.6008966725808573",
         "-4.546943944719759"
        ],
        [
         "1.304244805099275",
         "-3.6588428501055805",
         "2.6354386977288655"
        ],
        [
         "4.127633873431494",
         "4.153622577255408",
         "0.19760967659106043"
        ],
        [
         "4.24818439306128",
         "3.0106421564274797",
         "-2.21056252879802"
        ],
        [
         "4.9603663224278876",
         "-3.0114336940398467",
         "-3.5017132143213905"
        ],
        [
         "-1.096816080720917",
         "4.748295541176644",
         "-0.7475030725732985"
        ],
        [
         "3.486410382195457",
         "2.799878737647451",
         "0.03875730664732213"
        ],
        [
         "-1.0861463281898032",
         "2.0753437593040793",
         "-1.5079869060271447"
        ],
        [
         "-3.626802831170436",
         "-0.4060441273874451",
         "-2.1490167201721935"
        ]
       ]
      },
      "text/plain": [
       "DataContainer({'energy_constant': 0.1, 'equilibrium_lengh': 5.0, 'positions': DataContainer([DataContainer([3.137544466813198, -1.980814354656597, -4.197124310786901]), DataContainer([-2.6890042295246017, 1.8501549920906113, 0.023231338665228307]), DataContainer([-0.21694792294922394, 4.52462902567602, 4.747091691273553]), DataContainer([-1.3730328920596602, 3.345133072507805, -2.3966747431507196]), DataContainer([2.7537916983387056, 1.6128594035836397, 4.1022385836569]), DataContainer([-4.670628783489295, -3.4027456446008153, -1.2682900977875233]), DataContainer([-0.024009392615576886, -0.7000473804666187, 0.2955825557994345]), DataContainer([3.8025392209805897, -4.370649970003432, -0.20762411583497542]), DataContainer([-2.788465316883393, 4.449722862556019, -3.1178268869918546]), DataContainer([2.4406679645582585, -0.2785484738255857, -2.6818032676754067]), DataContainer([-4.11093749753287, 4.011545224548557, -2.570528164948338]), DataContainer([-3.90282132805013, -3.629025741377605, 3.5767107804003277]), DataContainer([-0.6603668770271973, -0.3738802422299585, -4.474830175227286]), DataContainer([-3.599320542923353, -3.2866771577781995, 1.6203959332493252]), DataContainer([-3.254427885686062, -4.83684975815674, -3.050720157376998]), DataContainer([4.559778458092227, 3.3162849367287706, 0.8296556544285298]), DataContainer([-1.3771992590308124, -3.314388219124896, -4.868978060931331]), DataContainer([-0.7667646728476152, -3.634026833467291, -3.557807258303818]), DataContainer([-3.840032170008806, -2.371455901138173, -0.8652606412581676]), DataContainer([2.450467252735109, 1.5039459711659404, 1.5965086685722971]), DataContainer([1.0665140929839154, 1.933109799659988, 2.873831669544165]), DataContainer([4.557345443186108, 0.6008966725808573, -4.546943944719759]), DataContainer([1.304244805099275, -3.6588428501055805, 2.6354386977288655]), DataContainer([4.127633873431494, 4.153622577255408, 0.19760967659106043]), DataContainer([4.24818439306128, 3.0106421564274797, -2.21056252879802]), DataContainer([4.9603663224278876, -3.0114336940398467, -3.5017132143213905]), DataContainer([-1.096816080720917, 4.748295541176644, -0.7475030725732985]), DataContainer([3.486410382195457, 2.799878737647451, 0.03875730664732213]), DataContainer([-1.0861463281898032, 2.0753437593040793, -1.5079869060271447]), DataContainer([-3.626802831170436, -0.4060441273874451, -2.1490167201721935])])})"
      ]
     },
     "execution_count": 7,
     "metadata": {},
     "output_type": "execute_result"
    }
   ],
   "source": [
    "job.input"
   ]
  },
  {
   "cell_type": "code",
   "execution_count": 8,
   "metadata": {},
   "outputs": [
    {
     "data": {
      "text/html": [
       "<div>\n",
       "<style scoped>\n",
       "    .dataframe tbody tr th:only-of-type {\n",
       "        vertical-align: middle;\n",
       "    }\n",
       "\n",
       "    .dataframe tbody tr th {\n",
       "        vertical-align: top;\n",
       "    }\n",
       "\n",
       "    .dataframe thead th {\n",
       "        text-align: right;\n",
       "    }\n",
       "</style>\n",
       "<table border=\"1\" class=\"dataframe\">\n",
       "  <thead>\n",
       "    <tr style=\"text-align: right;\">\n",
       "      <th></th>\n",
       "      <th>id</th>\n",
       "      <th>status</th>\n",
       "      <th>chemicalformula</th>\n",
       "      <th>job</th>\n",
       "      <th>subjob</th>\n",
       "      <th>projectpath</th>\n",
       "      <th>project</th>\n",
       "      <th>timestart</th>\n",
       "      <th>timestop</th>\n",
       "      <th>totalcputime</th>\n",
       "      <th>computer</th>\n",
       "      <th>hamilton</th>\n",
       "      <th>hamversion</th>\n",
       "      <th>parentid</th>\n",
       "      <th>masterid</th>\n",
       "    </tr>\n",
       "  </thead>\n",
       "  <tbody>\n",
       "    <tr>\n",
       "      <th>0</th>\n",
       "      <td>117</td>\n",
       "      <td>finished</td>\n",
       "      <td>None</td>\n",
       "      <td>harmonic_energy</td>\n",
       "      <td>/harmonic_energy</td>\n",
       "      <td>/home/muhammad/</td>\n",
       "      <td>workspace/tmp/PMD-workflow-workshop2/2_customized_job/python_demo/</td>\n",
       "      <td>2021-04-29 03:31:10.870275</td>\n",
       "      <td>None</td>\n",
       "      <td>None</td>\n",
       "      <td>pyiron@cmleo14#1</td>\n",
       "      <td>harmonicEnergy</td>\n",
       "      <td>0.4</td>\n",
       "      <td>None</td>\n",
       "      <td>None</td>\n",
       "    </tr>\n",
       "  </tbody>\n",
       "</table>\n",
       "</div>"
      ],
      "text/plain": [
       "    id    status chemicalformula              job            subjob  \\\n",
       "0  117  finished            None  harmonic_energy  /harmonic_energy   \n",
       "\n",
       "       projectpath  \\\n",
       "0  /home/muhammad/   \n",
       "\n",
       "                                                              project  \\\n",
       "0  workspace/tmp/PMD-workflow-workshop2/2_customized_job/python_demo/   \n",
       "\n",
       "                   timestart timestop totalcputime          computer  \\\n",
       "0 2021-04-29 03:31:10.870275     None         None  pyiron@cmleo14#1   \n",
       "\n",
       "         hamilton hamversion parentid masterid  \n",
       "0  harmonicEnergy        0.4     None     None  "
      ]
     },
     "execution_count": 8,
     "metadata": {},
     "output_type": "execute_result"
    }
   ],
   "source": [
    "pr.job_table()"
   ]
  },
  {
   "cell_type": "code",
   "execution_count": 9,
   "metadata": {},
   "outputs": [
    {
     "data": {
      "text/plain": [
       "{'groups': ['input', 'output'], 'nodes': ['HDF_VERSION', 'NAME', 'TYPE', 'VERSION', 'server', 'status']}"
      ]
     },
     "execution_count": 9,
     "metadata": {},
     "output_type": "execute_result"
    }
   ],
   "source": [
    "job"
   ]
  },
  {
   "cell_type": "code",
   "execution_count": 10,
   "metadata": {},
   "outputs": [
    {
     "data": {
      "text/plain": [
       "0.9899414339265156"
      ]
     },
     "execution_count": 10,
     "metadata": {},
     "output_type": "execute_result"
    }
   ],
   "source": [
    "job['output/generic/avg_harmonic_energy']"
   ]
  },
  {
   "cell_type": "code",
   "execution_count": 11,
   "metadata": {},
   "outputs": [
    {
     "data": {
      "image/png": "[encoded data removed]",
      "text/plain": [
       "<Figure size 432x288 with 1 Axes>"
      ]
     },
     "metadata": {
      "needs_background": "light"
     },
     "output_type": "display_data"
    }
   ],
   "source": [
    "job.scatter_plot()"
   ]
  },
  {
   "cell_type": "code",
   "execution_count": null,
   "metadata": {},
   "outputs": [],
   "source": []
  }
 ],
 "metadata": {
  "kernelspec": {
   "display_name": "Python 3",
   "language": "python",
   "name": "python3"
  },
  "language_info": {
   "codemirror_mode": {
    "name": "ipython",
    "version": 3
   },
   "file_extension": ".py",
   "mimetype": "text/x-python",
   "name": "python",
   "nbconvert_exporter": "python",
   "pygments_lexer": "ipython3",
   "version": "3.8.8"
  }
 },
 "nbformat": 4,
 "nbformat_minor": 4
}
